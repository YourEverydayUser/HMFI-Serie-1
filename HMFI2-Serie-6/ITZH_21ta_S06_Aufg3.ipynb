{
 "cells": [
  {
   "cell_type": "code",
   "execution_count": 2,
   "id": "561094c1",
   "metadata": {},
   "outputs": [],
   "source": [
    "import numpy as np\n",
    "import matplotlib.pyplot as plt"
   ]
  },
  {
   "cell_type": "code",
   "execution_count": 3,
   "id": "97df32a1",
   "metadata": {},
   "outputs": [],
   "source": [
    "data=np.array([\n",
    "    [1971, 2250.],\n",
    "    [1972, 2500.],\n",
    "    [1974, 5000.],\n",
    "    [1978, 29000.],\n",
    "    [1982, 120000.],\n",
    "    [1985, 275000.],\n",
    "    [1989, 1180000.],\n",
    "    [1989, 1180000.],\n",
    "    [1993, 3100000.],\n",
    "    [1997, 7500000.],\n",
    "    [1999, 24000000.],\n",
    "    [2000, 42000000.],\n",
    "    [2002, 220000000.],\n",
    "    [2003, 410000000.],   \n",
    "    ])"
   ]
  },
  {
   "cell_type": "markdown",
   "id": "4fe578b8",
   "metadata": {},
   "source": [
    "$\\log_{10}(N)=\\theta_1+(t-1970)\\cdot\\theta_2$  "
   ]
  },
  {
   "cell_type": "code",
   "execution_count": 4,
   "id": "f8d61e69",
   "metadata": {},
   "outputs": [],
   "source": [
    "x = data[:, 0]\n",
    "y = data[:, 1]"
   ]
  },
  {
   "cell_type": "code",
   "execution_count": 5,
   "id": "66fc824a",
   "metadata": {},
   "outputs": [
    {
     "data": {
      "text/plain": [
       "array([[ 1.,  1.],\n",
       "       [ 1.,  2.],\n",
       "       [ 1.,  4.],\n",
       "       [ 1.,  8.],\n",
       "       [ 1., 12.],\n",
       "       [ 1., 15.],\n",
       "       [ 1., 19.],\n",
       "       [ 1., 19.],\n",
       "       [ 1., 23.],\n",
       "       [ 1., 27.],\n",
       "       [ 1., 29.],\n",
       "       [ 1., 30.],\n",
       "       [ 1., 32.],\n",
       "       [ 1., 33.]])"
      ]
     },
     "execution_count": 5,
     "metadata": {},
     "output_type": "execute_result"
    }
   ],
   "source": [
    "A = np.array([np.ones(x.shape), (x-1970)])\n",
    "A = A.T\n",
    "A"
   ]
  },
  {
   "cell_type": "code",
   "execution_count": 6,
   "id": "6dd54640",
   "metadata": {},
   "outputs": [
    {
     "data": {
      "text/plain": [
       "array([3.12683256, 0.15402836])"
      ]
     },
     "execution_count": 6,
     "metadata": {},
     "output_type": "execute_result"
    }
   ],
   "source": [
    "lam = np.linalg.solve(A.T@A, A.T@np.log10(y))\n",
    "lam"
   ]
  },
  {
   "cell_type": "code",
   "execution_count": 9,
   "id": "fbba82cf",
   "metadata": {},
   "outputs": [
    {
     "data": {
      "text/plain": [
       "[<matplotlib.lines.Line2D at 0x26d3b07d820>]"
      ]
     },
     "execution_count": 9,
     "metadata": {},
     "output_type": "execute_result"
    },
    {
     "data": {
      "image/png": "[encoded data removed]",
      "text/plain": [
       "<Figure size 640x480 with 1 Axes>"
      ]
     },
     "metadata": {},
     "output_type": "display_data"
    }
   ],
   "source": [
    "xx = np.arange(1970, 2003, 0.1)\n",
    "yy = 10*np.e**(lam[0]) * 10*np.e**((x-1970)*lam[1])\n",
    "\n",
    "plt.plot(x, y, 'o')\n",
    "plt.semilogy(yy)"
   ]
  },
  {
   "cell_type": "code",
   "execution_count": null,
   "id": "e79976da",
   "metadata": {},
   "outputs": [],
   "source": []
  }
 ],
 "metadata": {
  "kernelspec": {
   "display_name": "Python 3 (ipykernel)",
   "language": "python",
   "name": "python3"
  },
  "language_info": {
   "codemirror_mode": {
    "name": "ipython",
    "version": 3
   },
   "file_extension": ".py",
   "mimetype": "text/x-python",
   "name": "python",
   "nbconvert_exporter": "python",
   "pygments_lexer": "ipython3",
   "version": "3.9.13"
  }
 },
 "nbformat": 4,
 "nbformat_minor": 5
}
