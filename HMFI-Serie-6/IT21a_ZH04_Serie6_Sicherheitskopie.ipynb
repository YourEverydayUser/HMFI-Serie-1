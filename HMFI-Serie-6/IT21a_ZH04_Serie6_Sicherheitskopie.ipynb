{
 "cells": [
  {
   "cell_type": "code",
   "execution_count": 88,
   "id": "6df5204a",
   "metadata": {},
   "outputs": [
    {
     "data": {
      "text/plain": [
       "('Obere Dreiecksmatrix:',\n",
       " array([[ 1.        ,  0.75      ,  0.5       ],\n",
       "        [-0.        ,  1.        ,  0.66666667],\n",
       "        [-0.        , -0.        ,  1.        ]]),\n",
       " 'Determinante: ',\n",
       " 1.0,\n",
       " 'Lösungsvektor x: ',\n",
       " array([3., 6., 1.]))"
      ]
     },
     "execution_count": 88,
     "metadata": {},
     "output_type": "execute_result"
    }
   ],
   "source": [
    "import numpy as np\n",
    "\n",
    "A = np.array([[2, 1, 0],\n",
    "     [5, 3, 2],\n",
    "     [20, 15, 10]], dtype=np.double)\n",
    "\n",
    "b = np.array([12, 35, 160], dtype=np.double)\n",
    "\n",
    "def pivot(A, b, c):\n",
    "    max = np.abs(A[0, 0])\n",
    "    row = 0\n",
    "    for x in range (len(A)):\n",
    "        if(np.abs(A[x, c]) > max):\n",
    "            max = np.abs(A[x, c])\n",
    "            row = x \n",
    "    replaceA = np.copy(A[0])\n",
    "    replaceb = np.copy(b[0])\n",
    "    A[0] = A[row]\n",
    "    b[0] = b[row]\n",
    "    A[row] = replaceA\n",
    "    b[row] = replaceb\n",
    "\n",
    "    return A, b\n",
    "\n",
    "def gauss(A, b):\n",
    "\n",
    "    row = 0\n",
    "    for x in range (len(A)):\n",
    "        pivot(A, b, x)\n",
    "\n",
    "        b[x] = b[x] / A[x, row]\n",
    "        A[x] = A[x] / A[x, row]\n",
    "    \n",
    "        for y in range (x + 1, len(A)):\n",
    "            L = (A[y, row] / A[x, row])\n",
    "            A[y] =  A[y] - (L * A[x])\n",
    "            b[y] = b[y] - (L * b[x])\n",
    "        \n",
    "        row += 1\n",
    "\n",
    "    return A\n",
    "\n",
    "def backwards(A, b):\n",
    "    \n",
    "    for x in range (len(A)):\n",
    "        sum = 0\n",
    "        for y in range (len(A)):\n",
    "            sum += A[len(A) - x - 1, y] * b[y]\n",
    "        length = len(A) - x - 1\n",
    "        b[length] = (b[length] - sum) + b[length] \n",
    "    \n",
    "    return b \n",
    "\n",
    "def determinante(A):\n",
    "    D = 1\n",
    "    for x in range (len(A)):\n",
    "        D *= A[x, x]\n",
    "\n",
    "    return D\n",
    "\n",
    "def IT21a_ZH04_S6_Aufg2(A, b):\n",
    "    A_triangle = gauss(A, b)\n",
    "    return \"Obere Dreiecksmatrix:\", A_triangle, \"Determinante: \", determinante(A_triangle), \"Lösungsvektor x: \", backwards(A_triangle, b) \n",
    "\n",
    "IT21a_ZH04_S6_Aufg2(A, b)\n"
   ]
  },
  {
   "cell_type": "markdown",
   "id": "cfb96b13",
   "metadata": {},
   "source": [
    "Aufgabe 3"
   ]
  },
  {
   "cell_type": "code",
   "execution_count": 87,
   "id": "b424e4cd",
   "metadata": {},
   "outputs": [
    {
     "data": {
      "text/plain": [
       "array([[0.        , 1.        , 2.25      ],\n",
       "       [1.        , 2.83333333, 0.75      ],\n",
       "       [0.        , 0.        , 1.        ]])"
      ]
     },
     "execution_count": 87,
     "metadata": {},
     "output_type": "execute_result"
    }
   ],
   "source": [
    "from numpy import double\n",
    "\n",
    "\n",
    "A1 = np.array([[4, -1, -5],\n",
    "     [-12, 4, 17],\n",
    "     [32, -10, -41]], dtype=double)\n",
    "\n",
    "b11 = np.array([6, -12, 48], dtype=double)\n",
    "b12 = np.array([-5, 19, -39], dtype=double)\n",
    "\n",
    "IT21a_ZH04_S6_Aufg2(A1, b11)\n",
    "IT21a_ZH04_S6_Aufg2(A1, b12)\n",
    "\n",
    "A2 = np.array([[2, 7, 3],\n",
    "     [-4, -10, 0],\n",
    "     [12, 34, 9]], dtype=double)\n",
    "\n",
    "b21 = np.array([25, -24, 107], dtype=double)\n",
    "b22 = np.array([5, -22, 42], dtype=double)\n",
    "\n",
    "IT21a_ZH04_S6_Aufg2(A2, b21)\n",
    "IT21a_ZH04_S6_Aufg2(A2, b22)\n",
    "gauss(A2, b22)\n",
    "\n",
    "\n"
   ]
  },
  {
   "cell_type": "code",
   "execution_count": 83,
   "id": "abf2e7d3",
   "metadata": {},
   "outputs": [
    {
     "data": {
      "text/plain": [
       "array([-2.,  3., -4.])"
      ]
     },
     "execution_count": 83,
     "metadata": {},
     "output_type": "execute_result"
    }
   ],
   "source": [
    "A1_solve = np.array([[4, -1, -5],\n",
    "     [-12, 4, 17],\n",
    "     [32, -10, -41]])\n",
    "\n",
    "b11_solve = np.array([6, -12, 48])\n",
    "b12_solve = np.array([-5, 19, -39])\n",
    "\n",
    "#np.linalg.solve(A1_solve, b11_solve)\n",
    "#np.linalg.solve(A1_solve, b12_solve)\n",
    "\n",
    "A2_solve = np.array([[2, 7, 3],\n",
    "     [-4, -10, 0],\n",
    "     [12, 34, 9]])\n",
    "\n",
    "b21_solve = np.array([25, -24, 107])\n",
    "b22_solve = np.array([5, -22, 42])\n",
    "\n",
    "#np.linalg.solve(A2_solve, b21_solve)\n",
    "np.linalg.solve(A2_solve, b22_solve)\n"
   ]
  },
  {
   "cell_type": "code",
   "execution_count": null,
   "id": "e93726d0",
   "metadata": {},
   "outputs": [],
   "source": []
  }
 ],
 "metadata": {
  "kernelspec": {
   "display_name": "Python 3.9.12 ('base')",
   "language": "python",
   "name": "python3"
  },
  "language_info": {
   "codemirror_mode": {
    "name": "ipython",
    "version": 3
   },
   "file_extension": ".py",
   "mimetype": "text/x-python",
   "name": "python",
   "nbconvert_exporter": "python",
   "pygments_lexer": "ipython3",
   "version": "3.9.12"
  },
  "vscode": {
   "interpreter": {
    "hash": "c28a2dbd0e59fd56660eca8f34d8270f500442c1acb70d4a300d55b367c73123"
   }
  }
 },
 "nbformat": 4,
 "nbformat_minor": 5
}
