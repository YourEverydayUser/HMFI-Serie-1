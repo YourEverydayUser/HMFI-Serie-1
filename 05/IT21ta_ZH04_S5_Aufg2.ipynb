{
 "cells": [
  {
   "cell_type": "code",
   "execution_count": 13,
   "metadata": {},
   "outputs": [
    {
     "name": "stdout",
     "output_type": "stream",
     "text": [
      "7.658217376951713\n",
      "8.014876532191066\n",
      "8.03707967743404\n",
      "Nach 3 Iterationen, h = 8.03707967743404\n"
     ]
    },
    {
     "data": {
      "image/png": "[encoded data removed]",
      "text/plain": [
       "<Figure size 432x288 with 1 Axes>"
      ]
     },
     "metadata": {
      "needs_background": "light"
     },
     "output_type": "display_data"
    }
   ],
   "source": [
    "from multiprocessing import current_process\n",
    "import numpy as np\n",
    "import matplotlib.pyplot as plt\n",
    "\n",
    "epsilon = 1e-3\n",
    "\n",
    "def function(h, r):\n",
    "    return (np.pi/3) * h**2 * (3*r - h) -471\n",
    "\n",
    "def function_derivative(h, r):\n",
    "    return np.pi*h*(2*r - h)\n",
    "\n",
    "radius = 10/2\n",
    "def newton_full(x):\n",
    "    return x - function(x, radius)/function_derivative(x, radius)\n",
    "\n",
    "xvalues = np.arange(0, 10, 0.01)\n",
    "plt.plot(xvalues, function(xvalues, 5))\n",
    "plt.grid()\n",
    "\n",
    "counter = 0\n",
    "current = 9\n",
    "while abs(function(current - epsilon, 5) * function(current + epsilon, 5) > 0):\n",
    "    last = current\n",
    "    current = newton_full(last)\n",
    "    counter += 1\n",
    "    print(current)\n",
    "\n",
    "\n",
    "print(\"Nach \" + str(counter) + \" Iterationen, h = \" + str(current))\n",
    "\n"
   ]
  },
  {
   "cell_type": "code",
   "execution_count": null,
   "metadata": {},
   "outputs": [],
   "source": []
  }
 ],
 "metadata": {
  "kernelspec": {
   "display_name": "Python 3.9.12 ('base')",
   "language": "python",
   "name": "python3"
  },
  "language_info": {
   "codemirror_mode": {
    "name": "ipython",
    "version": 3
   },
   "file_extension": ".py",
   "mimetype": "text/x-python",
   "name": "python",
   "nbconvert_exporter": "python",
   "pygments_lexer": "ipython3",
   "version": "3.9.12"
  },
  "orig_nbformat": 4,
  "vscode": {
   "interpreter": {
    "hash": "d7ce3127bba36e76ebf4d42dcc5290d5961c35cb59364da7480f410951fa66d2"
   }
  }
 },
 "nbformat": 4,
 "nbformat_minor": 2
}
