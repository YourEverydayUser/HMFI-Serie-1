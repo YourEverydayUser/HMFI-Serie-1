{
 "cells": [
  {
   "cell_type": "markdown",
   "metadata": {},
   "source": [
    "Teilaufgabe a.)"
   ]
  },
  {
   "cell_type": "code",
   "execution_count": 35,
   "metadata": {},
   "outputs": [
    {
     "name": "stdout",
     "output_type": "stream",
     "text": [
      "Iteration 1 0.9592760180995475\n",
      "Iteration 2 0.9499195672513018\n",
      "Iteration 3 0.9132260475624333\n",
      "Iteration 4 0.7791212216580606\n",
      "Iteration 5 0.4060089553678536\n",
      "Iteration 6 -0.00027986139568251633\n",
      "Iteration 7 -0.040723978712631365\n",
      "Iteration 8 -0.04065908194370271\n",
      "Iteration 9 Angebliche Nullstelle -0.04065928897356595\n"
     ]
    }
   ],
   "source": [
    "import numpy as np\n",
    "import matplotlib.pyplot as plt\n",
    "\n",
    "#Nullstelle im Bereich [-1, 0]\n",
    "\n",
    "def f_next(x):\n",
    "    return (1/221) * (230*x**4 + 18 * x**3 + 9 * x**2 -9)\n",
    "\n",
    "x = -1\n",
    "x_1 = f_next(x)\n",
    "y = 0\n",
    "\n",
    "while np.absolute(x - x_1) > 10 ** -6:\n",
    "    x = x_1\n",
    "    y += 1\n",
    "    print(\"Iteration \" + str(y) + \" \" + str(x_1))\n",
    "    x_1 = f_next(x)\n",
    "\n",
    "y += 1\n",
    "\n",
    "print(\"Iteration \" + str(y) + \" Angebliche Nullstelle \" + str(x_1))"
   ]
  },
  {
   "cell_type": "markdown",
   "metadata": {},
   "source": [
    "Die Nullstelle im Intervall 0, 1 ist abstossend. Sie liegt bei ungefähr 0.96239. Es lässt sich beobachten, dass falls ein Wert x <= 0.96 eingegeben wird, die Funktion gegen die Nullstelle im Bereich [-1, 0] konvergiert. Wird ein Wert x > 0.96 eingegeben, dann divergiert die Funktion. "
   ]
  },
  {
   "cell_type": "code",
   "execution_count": 74,
   "metadata": {},
   "outputs": [
    {
     "name": "stdout",
     "output_type": "stream",
     "text": [
      "Iteration 1 0.9932740285067873\n",
      "Iteration 2 1.0922752523692107\n",
      "Iteration 3 1.5953730970741773\n",
      "Iteration 4 7.135588222441846\n",
      "Iteration 5 2729.7036083572507\n",
      "Iteration 6 57784317890159.43\n",
      "Iteration 7 1.160313984507048e+55\n",
      "Iteration 8 1.8864168565107124e+220\n"
     ]
    },
    {
     "ename": "OverflowError",
     "evalue": "(34, 'Result too large')",
     "output_type": "error",
     "traceback": [
      "\u001b[1;31m---------------------------------------------------------------------------\u001b[0m",
      "\u001b[1;31mOverflowError\u001b[0m                             Traceback (most recent call last)",
      "\u001b[1;32mc:\\Users\\fkust\\OneDrive\\Desktop\\Höhere Mathematik für Informatiker\\HMFI-Serie-4\\IT21a_ZH04_Serie4.ipynb Zelle 3\u001b[0m in \u001b[0;36m<cell line: 8>\u001b[1;34m()\u001b[0m\n\u001b[0;32m     <a href='vscode-notebook-cell:/c%3A/Users/fkust/OneDrive/Desktop/H%C3%B6here%20Mathematik%20f%C3%BCr%20Informatiker/HMFI-Serie-4/IT21a_ZH04_Serie4.ipynb#W1sZmlsZQ%3D%3D?line=10'>11</a>\u001b[0m     y2 \u001b[39m+\u001b[39m\u001b[39m=\u001b[39m \u001b[39m1\u001b[39m\n\u001b[0;32m     <a href='vscode-notebook-cell:/c%3A/Users/fkust/OneDrive/Desktop/H%C3%B6here%20Mathematik%20f%C3%BCr%20Informatiker/HMFI-Serie-4/IT21a_ZH04_Serie4.ipynb#W1sZmlsZQ%3D%3D?line=11'>12</a>\u001b[0m     \u001b[39mprint\u001b[39m(\u001b[39m\"\u001b[39m\u001b[39mIteration \u001b[39m\u001b[39m\"\u001b[39m \u001b[39m+\u001b[39m \u001b[39mstr\u001b[39m(y2) \u001b[39m+\u001b[39m \u001b[39m\"\u001b[39m\u001b[39m \u001b[39m\u001b[39m\"\u001b[39m \u001b[39m+\u001b[39m \u001b[39mstr\u001b[39m(x2_1))\n\u001b[1;32m---> <a href='vscode-notebook-cell:/c%3A/Users/fkust/OneDrive/Desktop/H%C3%B6here%20Mathematik%20f%C3%BCr%20Informatiker/HMFI-Serie-4/IT21a_ZH04_Serie4.ipynb#W1sZmlsZQ%3D%3D?line=12'>13</a>\u001b[0m     x2_1 \u001b[39m=\u001b[39m f_next(x2)\n\u001b[0;32m     <a href='vscode-notebook-cell:/c%3A/Users/fkust/OneDrive/Desktop/H%C3%B6here%20Mathematik%20f%C3%BCr%20Informatiker/HMFI-Serie-4/IT21a_ZH04_Serie4.ipynb#W1sZmlsZQ%3D%3D?line=14'>15</a>\u001b[0m y2 \u001b[39m+\u001b[39m\u001b[39m=\u001b[39m \u001b[39m1\u001b[39m\n\u001b[0;32m     <a href='vscode-notebook-cell:/c%3A/Users/fkust/OneDrive/Desktop/H%C3%B6here%20Mathematik%20f%C3%BCr%20Informatiker/HMFI-Serie-4/IT21a_ZH04_Serie4.ipynb#W1sZmlsZQ%3D%3D?line=16'>17</a>\u001b[0m \u001b[39mprint\u001b[39m(\u001b[39m\"\u001b[39m\u001b[39mIteration \u001b[39m\u001b[39m\"\u001b[39m \u001b[39m+\u001b[39m \u001b[39mstr\u001b[39m(y2) \u001b[39m+\u001b[39m \u001b[39m\"\u001b[39m\u001b[39m Angebliche Nullstelle \u001b[39m\u001b[39m\"\u001b[39m \u001b[39m+\u001b[39m \u001b[39mstr\u001b[39m(x2_1))\n",
      "\u001b[1;32mc:\\Users\\fkust\\OneDrive\\Desktop\\Höhere Mathematik für Informatiker\\HMFI-Serie-4\\IT21a_ZH04_Serie4.ipynb Zelle 3\u001b[0m in \u001b[0;36mf_next\u001b[1;34m(x)\u001b[0m\n\u001b[0;32m      <a href='vscode-notebook-cell:/c%3A/Users/fkust/OneDrive/Desktop/H%C3%B6here%20Mathematik%20f%C3%BCr%20Informatiker/HMFI-Serie-4/IT21a_ZH04_Serie4.ipynb#W1sZmlsZQ%3D%3D?line=5'>6</a>\u001b[0m \u001b[39mdef\u001b[39;00m \u001b[39mf_next\u001b[39m(x):\n\u001b[1;32m----> <a href='vscode-notebook-cell:/c%3A/Users/fkust/OneDrive/Desktop/H%C3%B6here%20Mathematik%20f%C3%BCr%20Informatiker/HMFI-Serie-4/IT21a_ZH04_Serie4.ipynb#W1sZmlsZQ%3D%3D?line=6'>7</a>\u001b[0m     \u001b[39mreturn\u001b[39;00m (\u001b[39m1\u001b[39m\u001b[39m/\u001b[39m\u001b[39m221\u001b[39m) \u001b[39m*\u001b[39m (\u001b[39m230\u001b[39m\u001b[39m*\u001b[39mx\u001b[39m*\u001b[39;49m\u001b[39m*\u001b[39;49m\u001b[39m4\u001b[39;49m \u001b[39m+\u001b[39m \u001b[39m18\u001b[39m \u001b[39m*\u001b[39m x\u001b[39m*\u001b[39m\u001b[39m*\u001b[39m\u001b[39m3\u001b[39m \u001b[39m+\u001b[39m \u001b[39m9\u001b[39m \u001b[39m*\u001b[39m x\u001b[39m*\u001b[39m\u001b[39m*\u001b[39m\u001b[39m2\u001b[39m \u001b[39m-\u001b[39m\u001b[39m9\u001b[39m)\n",
      "\u001b[1;31mOverflowError\u001b[0m: (34, 'Result too large')"
     ]
    }
   ],
   "source": [
    "#Nullstelle im Bereich [0, 1]\n",
    "\n",
    "x2 = 0.97\n",
    "x2_1 = f_next(x2)\n",
    "\n",
    "y2 = 0\n",
    "\n",
    "while np.absolute(x2 - x2_1) > 10 ** -6:\n",
    "    \n",
    "    x2 = x2_1\n",
    "    y2 += 1\n",
    "    print(\"Iteration \" + str(y2) + \" \" + str(x2_1))\n",
    "    x2_1 = f_next(x2)\n",
    "\n",
    "y2 += 1\n",
    "\n",
    "print(\"Iteration \" + str(y2) + \" Angebliche Nullstelle \" + str(x2_1))"
   ]
  },
  {
   "cell_type": "markdown",
   "metadata": {},
   "source": [
    "Teilaufgabe b.)"
   ]
  },
  {
   "cell_type": "code",
   "execution_count": null,
   "metadata": {},
   "outputs": [],
   "source": [
    "x_intervall = np.arange(-0.5, 0.5, 10 ** -4)\n",
    "y_values = []\n",
    "\n",
    "for x in x_intervall:\n",
    "    y.values.append(x)\n",
    "\n",
    "fig, axs = np.subplots"
   ]
  },
  {
   "cell_type": "code",
   "execution_count": null,
   "metadata": {},
   "outputs": [],
   "source": []
  }
 ],
 "metadata": {
  "kernelspec": {
   "display_name": "Python 3.9.12 ('base')",
   "language": "python",
   "name": "python3"
  },
  "language_info": {
   "codemirror_mode": {
    "name": "ipython",
    "version": 3
   },
   "file_extension": ".py",
   "mimetype": "text/x-python",
   "name": "python",
   "nbconvert_exporter": "python",
   "pygments_lexer": "ipython3",
   "version": "3.9.12"
  },
  "orig_nbformat": 4,
  "vscode": {
   "interpreter": {
    "hash": "c28a2dbd0e59fd56660eca8f34d8270f500442c1acb70d4a300d55b367c73123"
   }
  }
 },
 "nbformat": 4,
 "nbformat_minor": 2
}
