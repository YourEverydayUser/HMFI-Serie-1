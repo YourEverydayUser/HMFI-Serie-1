{
 "cells": [
  {
   "cell_type": "code",
   "execution_count": 1,
   "metadata": {
    "collapsed": true
   },
   "outputs": [],
   "source": [
    "import numpy as np\n",
    "import matplotlib.pyplot as plt"
   ]
  },
  {
   "cell_type": "code",
   "execution_count": 2,
   "outputs": [],
   "source": [
    "# Cubic spline function\n",
    "def IT21ta_ZH04_S5_Aufg2(x,y,xx):\n",
    "    if x.size < 2:\n",
    "        return 0\n",
    "    a = y[:-1]\n",
    "    h = x[1:] - x[:-1]\n",
    "    c = np.zeros(x.size)\n",
    "\n",
    "    if x.size > 2:\n",
    "        A = np.diag(2*(h[:-1] + h[1:])) + np.diag(h[1:-1], -1) + np.diag(h[1:-1], 1)\n",
    "        z = 3 * (y[2:] - y[1:-1]) / h[1:] - 3 * (y[1:-1] - y[:-2]) / h[:-1]\n",
    "        print(z)\n",
    "        c[1:-1] = np.linalg.solve(A, z)\n",
    "        print(c)\n",
    "\n",
    "    b = (y[1:] - y[:-1]) / h[:] - (c[1:] + 2*c[:-1]) * h[:] / 3\n",
    "    print(b)\n",
    "    d = (c[1:] - c[:-1]) / (3 * h[:])\n",
    "    print(d)\n",
    "\n",
    "    yy = np.zeros(xx.size)\n",
    "    for k in range(x.size - 1):\n",
    "        idx = (xx >= x[k]) & (xx <= x[k+1])\n",
    "        dx = xx[idx] - x[k]\n",
    "        yy[idx] = a[k] + b[k] * dx + c[k] * dx**2 + d[k] * dx**3\n",
    "\n",
    "    return yy"
   ],
   "metadata": {
    "collapsed": false
   }
  },
  {
   "cell_type": "code",
   "execution_count": 3,
   "outputs": [
    {
     "name": "stdout",
     "output_type": "stream",
     "text": [
      "[ 13.5 -22.5]\n",
      "[ 0.    2.55 -3.45  0.  ]\n",
      "[-3.2  1.9  0.1]\n",
      "[ 0.425 -1.     0.575]\n"
     ]
    }
   ],
   "source": [
    "x = np.array([4, 6, 8, 10])\n",
    "y = np.array([6, 3, 9, 0])\n",
    "\n",
    "xx = np.arange(4, 10, 0.01)\n",
    "yy = IT21ta_ZH04_S5_Aufg2(x, y, xx)"
   ],
   "metadata": {
    "collapsed": false
   }
  },
  {
   "cell_type": "code",
   "execution_count": 4,
   "outputs": [
    {
     "data": {
      "text/plain": "<matplotlib.collections.PathCollection at 0x26e38a985b0>"
     },
     "execution_count": 4,
     "metadata": {},
     "output_type": "execute_result"
    },
    {
     "data": {
      "text/plain": "<Figure size 432x288 with 1 Axes>",
      "image/png": "[encoded data removed]"
     },
     "metadata": {
      "needs_background": "light"
     },
     "output_type": "display_data"
    }
   ],
   "source": [
    "plt.plot(xx, yy)\n",
    "plt.scatter(x, y)"
   ],
   "metadata": {
    "collapsed": false
   }
  },
  {
   "cell_type": "code",
   "execution_count": 4,
   "outputs": [],
   "source": [],
   "metadata": {
    "collapsed": false
   }
  }
 ],
 "metadata": {
  "kernelspec": {
   "display_name": "Python 3",
   "language": "python",
   "name": "python3"
  },
  "language_info": {
   "codemirror_mode": {
    "name": "ipython",
    "version": 2
   },
   "file_extension": ".py",
   "mimetype": "text/x-python",
   "name": "python",
   "nbconvert_exporter": "python",
   "pygments_lexer": "ipython2",
   "version": "2.7.6"
  }
 },
 "nbformat": 4,
 "nbformat_minor": 0
}
