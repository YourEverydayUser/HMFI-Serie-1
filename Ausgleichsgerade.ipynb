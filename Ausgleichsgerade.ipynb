{
 "cells": [
  {
   "cell_type": "code",
   "execution_count": 2,
   "id": "f3e0064a",
   "metadata": {},
   "outputs": [],
   "source": [
    "import numpy as np"
   ]
  },
  {
   "cell_type": "code",
   "execution_count": 3,
   "id": "15f93de0",
   "metadata": {},
   "outputs": [],
   "source": [
    "x = np.array([1, 2, 3, 4], dtype=np.float64)\n",
    "y = np.array([6, 6.8, 10, 10.5], dtype=np.float64)"
   ]
  },
  {
   "cell_type": "code",
   "execution_count": 6,
   "id": "d91f2d01",
   "metadata": {},
   "outputs": [
    {
     "data": {
      "text/plain": [
       "array([[1., 1.],\n",
       "       [2., 1.],\n",
       "       [3., 1.],\n",
       "       [4., 1.]])"
      ]
     },
     "execution_count": 6,
     "metadata": {},
     "output_type": "execute_result"
    }
   ],
   "source": [
    "# y = a*x+b, lambda=(a, b)^T, f1(x)=x, f2(x)=1, A=[f1(x), f2(x)]=[x,1]\n",
    "A = np.array([x, np.ones(x.shape)]) #Zeilenweise \n",
    "A=A.T #transponieren für die \"Spaltenweise\"-Form"
   ]
  },
  {
   "cell_type": "code",
   "execution_count": 7,
   "id": "17692410",
   "metadata": {},
   "outputs": [
    {
     "data": {
      "text/plain": [
       "array([1.67, 4.15])"
      ]
     },
     "execution_count": 7,
     "metadata": {},
     "output_type": "execute_result"
    }
   ],
   "source": [
    "# Normalengleichung Lösen\n",
    "lam = np.linalg.solve(A.T@A, A.T@y)\n",
    "lam"
   ]
  },
  {
   "cell_type": "code",
   "execution_count": 8,
   "id": "3bd1edfe",
   "metadata": {},
   "outputs": [],
   "source": [
    "import matplotlib.pyplot as plt"
   ]
  },
  {
   "cell_type": "code",
   "execution_count": 14,
   "id": "0c6e084f",
   "metadata": {},
   "outputs": [
    {
     "data": {
      "text/plain": [
       "[<matplotlib.lines.Line2D at 0x290d7a3b070>]"
      ]
     },
     "execution_count": 14,
     "metadata": {},
     "output_type": "execute_result"
    },
    {
     "data": {
      "image/png": "[encoded data removed]",
      "text/plain": [
       "<Figure size 640x480 with 1 Axes>"
      ]
     },
     "metadata": {},
     "output_type": "display_data"
    }
   ],
   "source": [
    "xx=np.linspace(x.min(), x.max())\n",
    "yy=lam[0]*xx+lam[1]\n",
    "\n",
    "plt.plot(x, y, 'o')\n",
    "plt.plot(xx, yy)"
   ]
  },
  {
   "cell_type": "code",
   "execution_count": 15,
   "id": "f48e0c96",
   "metadata": {},
   "outputs": [],
   "source": [
    "# Mit QR Zerlegung der Matrix A\n",
    "Q, R = np.linalg.qr(A)"
   ]
  },
  {
   "cell_type": "code",
   "execution_count": 17,
   "id": "73ad9133",
   "metadata": {},
   "outputs": [
    {
     "data": {
      "text/plain": [
       "array([1.67, 4.15])"
      ]
     },
     "execution_count": 17,
     "metadata": {},
     "output_type": "execute_result"
    }
   ],
   "source": [
    "# R * lambda = Q^T * y\n",
    "lam = np.linalg.solve(R, Q.T@y)\n",
    "lam"
   ]
  },
  {
   "cell_type": "code",
   "execution_count": null,
   "id": "b62e698f",
   "metadata": {},
   "outputs": [],
   "source": []
  }
 ],
 "metadata": {
  "kernelspec": {
   "display_name": "Python 3 (ipykernel)",
   "language": "python",
   "name": "python3"
  },
  "language_info": {
   "codemirror_mode": {
    "name": "ipython",
    "version": 3
   },
   "file_extension": ".py",
   "mimetype": "text/x-python",
   "name": "python",
   "nbconvert_exporter": "python",
   "pygments_lexer": "ipython3",
   "version": "3.9.13"
  }
 },
 "nbformat": 4,
 "nbformat_minor": 5
}
