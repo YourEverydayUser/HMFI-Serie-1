{
 "cells": [
  {
   "cell_type": "code",
   "execution_count": 27,
   "id": "5a57319b",
   "metadata": {},
   "outputs": [],
   "source": [
    "import sympy as sp\n",
    "import numpy as np\n",
    "import matplotlib.pyplot as plt\n",
    "\n",
    "x=np.array([2. , 2.5, 3. , 3.5, 4. , 4.5, 5. , 5.5, 6. , 6.5, 7. , 7.5, 8. ,\n",
    "       8.5, 9. , 9.5])\n",
    "\n",
    "y=np.array([159.57209984, 159.8851819 , 159.89378952, 160.30305273,\n",
    "       160.84630757, 160.94703969, 161.56961845, 162.31468058,\n",
    "       162.32140561, 162.88880047, 163.53234609, 163.85817086,\n",
    "       163.55339958, 163.86393263, 163.90535931, 163.44385491])"
   ]
  },
  {
   "cell_type": "code",
   "execution_count": 28,
   "id": "a8eeca43",
   "metadata": {},
   "outputs": [
    {
     "data": {
      "text/plain": [
       "(p0, p1, p2, p3)"
      ]
     },
     "execution_count": 28,
     "metadata": {},
     "output_type": "execute_result"
    }
   ],
   "source": [
    "lam0 = np.array([100, 120, 3, -1],dtype=np.float64)\n",
    "tol = 1e-5\n",
    "p = sp.symbols('p:{n:d}'.format(n=lam0.size))\n",
    "p"
   ]
  },
  {
   "cell_type": "code",
   "execution_count": 29,
   "id": "98fc2cb3",
   "metadata": {},
   "outputs": [],
   "source": [
    "def f(x,p):\n",
    "    return (p[0]+p[1]*10**(p[2]+p[3]*x))/(1+10**(p[2]+p[3]*x))"
   ]
  },
  {
   "cell_type": "code",
   "execution_count": 30,
   "id": "4807550b",
   "metadata": {},
   "outputs": [],
   "source": [
    "g = sp.Matrix([y[k]-f(x[k],p) for k in range(len(x))])"
   ]
  },
  {
   "cell_type": "code",
   "execution_count": 31,
   "id": "2ab8ab4a",
   "metadata": {},
   "outputs": [],
   "source": [
    "Dg = g.jacobian(p)"
   ]
  },
  {
   "cell_type": "code",
   "execution_count": 32,
   "id": "03910463",
   "metadata": {},
   "outputs": [],
   "source": [
    "g = sp.lambdify([p], g, 'numpy')\n",
    "Dg = sp.lambdify([p], Dg, 'numpy')"
   ]
  },
  {
   "cell_type": "code",
   "execution_count": 33,
   "id": "dfad26fe",
   "metadata": {},
   "outputs": [
    {
     "data": {
      "text/plain": [
       "array([63.13929502, 37.07214103,  1.34173402, -0.45156159])"
      ]
     },
     "execution_count": 33,
     "metadata": {},
     "output_type": "execute_result"
    }
   ],
   "source": [
    "k=0\n",
    "lam=np.copy(lam0)\n",
    "[Q,R] = np.linalg.qr(Dg(lam))\n",
    "delta = np.linalg.solve(R,-Q.T @ g(lam)).flatten()  # Achtung: flatten() braucht es, um aus dem Spaltenvektor delta wieder eine Liste zu machen, da g hier nicht mit Spaltenvektoren als Input umgehen kann\n",
    "delta "
   ]
  },
  {
   "cell_type": "code",
   "execution_count": 34,
   "id": "c8219ff9",
   "metadata": {},
   "outputs": [
    {
     "data": {
      "text/plain": [
       "array([163.13929502, 157.07214103,   4.34173402,  -1.45156159])"
      ]
     },
     "execution_count": 34,
     "metadata": {},
     "output_type": "execute_result"
    }
   ],
   "source": [
    "lam = lam+delta\n",
    "lam"
   ]
  },
  {
   "cell_type": "code",
   "execution_count": 35,
   "id": "e375aebd",
   "metadata": {},
   "outputs": [
    {
     "data": {
      "text/plain": [
       "73.23194913131235"
      ]
     },
     "execution_count": 35,
     "metadata": {},
     "output_type": "execute_result"
    }
   ],
   "source": [
    "# Inkrement\n",
    "increment = np.linalg.norm(delta)\n",
    "increment"
   ]
  },
  {
   "cell_type": "code",
   "execution_count": 36,
   "id": "577bc762",
   "metadata": {},
   "outputs": [
    {
     "data": {
      "text/plain": [
       "56222.21841571913"
      ]
     },
     "execution_count": 36,
     "metadata": {},
     "output_type": "execute_result"
    }
   ],
   "source": [
    "# Fehlerfunktional des Startvektors lam0\n",
    "err_func0 = np.linalg.norm(g(lam0))**2\n",
    "err_func0"
   ]
  },
  {
   "cell_type": "code",
   "execution_count": 37,
   "id": "11eac4ce",
   "metadata": {},
   "outputs": [
    {
     "data": {
      "text/plain": [
       "27.15746246432478"
      ]
     },
     "execution_count": 37,
     "metadata": {},
     "output_type": "execute_result"
    }
   ],
   "source": [
    "# Fehlerfunktional nach der ersten Iteration\n",
    "err_func = np.linalg.norm(g(lam))**2\n",
    "err_func"
   ]
  },
  {
   "cell_type": "code",
   "execution_count": 38,
   "id": "4915320e",
   "metadata": {},
   "outputs": [],
   "source": [
    "def gauss_newton_d(g, Dg, lam0, tol, max_iter, pmax, damping):\n",
    "    k=0\n",
    "    lam=np.copy(lam0)\n",
    "    increment = tol+1\n",
    "    err_func = np.linalg.norm(g(lam))**2\n",
    "    \n",
    "    while (increment > tol and k < max_iter):\n",
    "        # QR-Zerlegung von Dg(lam)\n",
    "        [Q,R] = np.linalg.qr(Dg(lam))\n",
    "        delta = np.linalg.solve(R,-Q.T @ g(lam)).flatten()           # Achtung: flatten() braucht es, um aus dem Spaltenvektor delta wieder\n",
    "                                                                     # eine \"flachen\" Vektor zu machen, da g hier nicht mit Spaltenvektoren als Input umgehen kann           \n",
    "        # hier kommt die Däfmpfung, falls damping = 1\n",
    "        p=0\n",
    "        while damping==1 and np.linalg.norm(g(lam+delta/2**p))**2 > err_func:\n",
    "            p+=1\n",
    "            if p>pmax:\n",
    "                p=0\n",
    "                break\n",
    "               \n",
    "        # Update des Vektors Lambda        \n",
    "        lam = lam+delta/2**p\n",
    "        err_func = np.linalg.norm(g(lam))**2\n",
    "        increment = np.linalg.norm(delta)\n",
    "        k = k+1\n",
    "        print('Iteration: ',k)\n",
    "        print('lambda = ',lam)\n",
    "        print('Inkrement = ',increment)\n",
    "        print('Fehlerfunktional =', err_func)\n",
    "    return(lam,k)"
   ]
  },
  {
   "cell_type": "code",
   "execution_count": 39,
   "id": "7d63a065",
   "metadata": {},
   "outputs": [
    {
     "name": "stdout",
     "output_type": "stream",
     "text": [
      "Iteration:  1\n",
      "lambda =  [163.13929502 157.07214103   4.34173402  -1.45156159]\n",
      "Inkrement =  73.23194913131235\n",
      "Fehlerfunktional = 27.15746246432478\n",
      "Iteration:  2\n",
      "lambda =  [163.02855335 157.67719052   1.52464763  -0.46773222]\n",
      "Inkrement =  6.093355236156653\n",
      "Fehlerfunktional = 6.306237392403398\n",
      "Iteration:  3\n",
      "lambda =  [163.43938891 157.39314475   0.78716853  -0.22676767]\n",
      "Inkrement =  1.8454345920867432\n",
      "Fehlerfunktional = 4.450011745808803\n",
      "Iteration:  4\n",
      "lambda =  [163.47381305 159.06035085   1.2516163   -0.28554606]\n",
      "Inkrement =  6.928119904158262\n",
      "Fehlerfunktional = 3.144488293746804\n",
      "Iteration:  5\n",
      "lambda =  [163.7391953  160.34802509   2.4675542   -0.46926011]\n",
      "Inkrement =  1.8002190230693036\n",
      "Fehlerfunktional = 2.7490158679473544\n",
      "Iteration:  6\n",
      "lambda =  [163.88565667 159.51067822   2.10407209  -0.41889869]\n",
      "Inkrement =  0.925881324042069\n",
      "Fehlerfunktional = 0.6282145560271954\n",
      "Iteration:  7\n",
      "lambda =  [163.88059443 159.4746335    2.17366801  -0.42980547]\n",
      "Inkrement =  0.07929311368656132\n",
      "Fehlerfunktional = 0.5918639382413865\n",
      "Iteration:  8\n",
      "lambda =  [163.88292257 159.47368622   2.17110664  -0.42912778]\n",
      "Inkrement =  0.0036520387505507277\n",
      "Fehlerfunktional = 0.5918472402910435\n",
      "Iteration:  9\n",
      "lambda =  [163.8824939  159.47431473   2.17241438  -0.42937929]\n",
      "Inkrement =  0.0015336923420989667\n",
      "Fehlerfunktional = 0.5918467822532157\n",
      "Iteration:  10\n",
      "lambda =  [163.88259409 159.47421648   2.17217331  -0.42932989]\n",
      "Inkrement =  0.000283281043728453\n",
      "Fehlerfunktional = 0.5918467604473988\n",
      "Iteration:  11\n",
      "lambda =  [163.88257181 159.47424165   2.17223141  -0.42934152]\n",
      "Inkrement =  6.812305288283529e-05\n",
      "Fehlerfunktional = 0.591846759350236\n",
      "Iteration:  12\n",
      "lambda =  [163.88257684 159.47423622   2.17221862  -0.42933895]\n",
      "Inkrement =  1.50007232362829e-05\n",
      "Fehlerfunktional = 0.5918467592947689\n",
      "Iteration:  13\n",
      "lambda =  [163.88257571 159.47423746   2.17222151  -0.42933953]\n",
      "Inkrement =  3.398347784094475e-06\n",
      "Fehlerfunktional = 0.5918467592919636\n"
     ]
    }
   ],
   "source": [
    "tol = 1e-5\n",
    "max_iter = 30\n",
    "pmax = 5\n",
    "damping = 1\n",
    "[lam_with,n] = gauss_newton_d(g, Dg, lam0, tol, max_iter, pmax, damping)"
   ]
  },
  {
   "cell_type": "code",
   "execution_count": 40,
   "id": "9ec4ccb8",
   "metadata": {},
   "outputs": [],
   "source": [
    "t = sp.symbols('t')\n",
    "F = f(t,lam_with)\n",
    "F = sp.lambdify([t],F,'numpy')\n",
    "t = np.linspace(x.min(),x.max())"
   ]
  },
  {
   "cell_type": "code",
   "execution_count": 41,
   "id": "fe1aa428",
   "metadata": {},
   "outputs": [
    {
     "data": {
      "image/png": "[encoded data removed]",
      "text/plain": [
       "<Figure size 640x480 with 1 Axes>"
      ]
     },
     "metadata": {},
     "output_type": "display_data"
    }
   ],
   "source": [
    "plt.plot(x,y,'o')\n",
    "plt.plot(t,F(t))\n",
    "plt.xlabel('x')\n",
    "plt.ylabel('y')\n",
    "plt.show()"
   ]
  },
  {
   "cell_type": "code",
   "execution_count": 42,
   "id": "23cd9215",
   "metadata": {},
   "outputs": [
    {
     "name": "stdout",
     "output_type": "stream",
     "text": [
      "Iteration:  1\n",
      "lambda =  [163.13929502 157.07214103   4.34173402  -1.45156159]\n",
      "Inkrement =  73.23194913131235\n",
      "Fehlerfunktional = 27.15746246432478\n",
      "Iteration:  2\n",
      "lambda =  [162.91781168 158.28224001  -1.29243875   0.51609715]\n",
      "Inkrement =  6.093355236156653\n",
      "Fehlerfunktional = 249.57304167406878\n",
      "Iteration:  3\n",
      "lambda =  [148.82500717 163.69134627  -6.50644142   2.02647326]\n",
      "Inkrement =  16.041590618745694\n",
      "Fehlerfunktional = 297.4704590375888\n",
      "Iteration:  4\n",
      "lambda =  [159.37397935 162.8537639   -4.27249373   1.27089044]\n",
      "Inkrement =  10.84176120438279\n",
      "Fehlerfunktional = 13.709549467635926\n",
      "Iteration:  5\n",
      "lambda =  [158.85088236 163.09204294   2.90677837  -1.02190647]\n",
      "Inkrement =  7.5583908960088735\n",
      "Fehlerfunktional = 209.08467050256627\n",
      "Iteration:  6\n",
      "lambda =  [163.08528285 156.07910402  10.27775176  -3.55307747]\n",
      "Inkrement =  11.307056875368842\n",
      "Fehlerfunktional = 48.94434471039341\n",
      "Iteration:  7\n",
      "lambda =  [162.59794001 159.18242219  -2.04017613   0.7358693 ]\n",
      "Inkrement =  13.416202836590513\n",
      "Fehlerfunktional = 172.60914852268382\n",
      "Iteration:  8\n",
      "lambda =  [153.34945366 163.35057266 -10.18477293   3.33485907]\n",
      "Inkrement =  13.266392994660048\n",
      "Fehlerfunktional = 112.08121152086966\n",
      "Iteration:  9\n",
      "lambda =  [159.21917487 162.75893126   8.35399334  -2.89092875]\n",
      "Inkrement =  20.426697119944524\n",
      "Fehlerfunktional = 182.3868565333493\n",
      "Iteration:  10\n",
      "lambda =  [162.63067902 159.03699755  26.11019878  -9.15496719]\n",
      "Inkrement =  19.49390059670165\n",
      "Fehlerfunktional = 27.485933996530395\n",
      "Iteration:  11\n",
      "lambda =  [ 162.56529766  159.56766612 -400.01946307  135.41775197]\n",
      "Inkrement =  449.9867172704913\n",
      "Fehlerfunktional = nan\n",
      "Iteration:  12\n",
      "lambda =  [nan nan nan nan]\n",
      "Inkrement =  nan\n",
      "Fehlerfunktional = nan\n"
     ]
    },
    {
     "name": "stderr",
     "output_type": "stream",
     "text": [
      "<lambdifygenerated-7>:3: RuntimeWarning: overflow encountered in double_scalars\n",
      "  return array([[159.57209984 - (10**(p2 + 2.0*p3)*p1 + p0)/(10**(p2 + 2.0*p3) + 1)], [159.8851819 - (10**(p2 + 2.5*p3)*p1 + p0)/(10**(p2 + 2.5*p3) + 1)], [159.89378952 - (10**(p2 + 3.0*p3)*p1 + p0)/(10**(p2 + 3.0*p3) + 1)], [160.30305273 - (10**(p2 + 3.5*p3)*p1 + p0)/(10**(p2 + 3.5*p3) + 1)], [160.84630757 - (10**(p2 + 4.0*p3)*p1 + p0)/(10**(p2 + 4.0*p3) + 1)], [160.94703969 - (10**(p2 + 4.5*p3)*p1 + p0)/(10**(p2 + 4.5*p3) + 1)], [161.56961845 - (10**(p2 + 5.0*p3)*p1 + p0)/(10**(p2 + 5.0*p3) + 1)], [162.31468058 - (10**(p2 + 5.5*p3)*p1 + p0)/(10**(p2 + 5.5*p3) + 1)], [162.32140561 - (10**(p2 + 6.0*p3)*p1 + p0)/(10**(p2 + 6.0*p3) + 1)], [162.88880047 - (10**(p2 + 6.5*p3)*p1 + p0)/(10**(p2 + 6.5*p3) + 1)], [163.53234609 - (10**(p2 + 7.0*p3)*p1 + p0)/(10**(p2 + 7.0*p3) + 1)], [163.85817086 - (10**(p2 + 7.5*p3)*p1 + p0)/(10**(p2 + 7.5*p3) + 1)], [163.55339958 - (10**(p2 + 8.0*p3)*p1 + p0)/(10**(p2 + 8.0*p3) + 1)], [163.86393263 - (10**(p2 + 8.5*p3)*p1 + p0)/(10**(p2 + 8.5*p3) + 1)], [163.90535931 - (10**(p2 + 9.0*p3)*p1 + p0)/(10**(p2 + 9.0*p3) + 1)], [163.44385491 - (10**(p2 + 9.5*p3)*p1 + p0)/(10**(p2 + 9.5*p3) + 1)]])\n",
      "<lambdifygenerated-7>:3: RuntimeWarning: invalid value encountered in double_scalars\n",
      "  return array([[159.57209984 - (10**(p2 + 2.0*p3)*p1 + p0)/(10**(p2 + 2.0*p3) + 1)], [159.8851819 - (10**(p2 + 2.5*p3)*p1 + p0)/(10**(p2 + 2.5*p3) + 1)], [159.89378952 - (10**(p2 + 3.0*p3)*p1 + p0)/(10**(p2 + 3.0*p3) + 1)], [160.30305273 - (10**(p2 + 3.5*p3)*p1 + p0)/(10**(p2 + 3.5*p3) + 1)], [160.84630757 - (10**(p2 + 4.0*p3)*p1 + p0)/(10**(p2 + 4.0*p3) + 1)], [160.94703969 - (10**(p2 + 4.5*p3)*p1 + p0)/(10**(p2 + 4.5*p3) + 1)], [161.56961845 - (10**(p2 + 5.0*p3)*p1 + p0)/(10**(p2 + 5.0*p3) + 1)], [162.31468058 - (10**(p2 + 5.5*p3)*p1 + p0)/(10**(p2 + 5.5*p3) + 1)], [162.32140561 - (10**(p2 + 6.0*p3)*p1 + p0)/(10**(p2 + 6.0*p3) + 1)], [162.88880047 - (10**(p2 + 6.5*p3)*p1 + p0)/(10**(p2 + 6.5*p3) + 1)], [163.53234609 - (10**(p2 + 7.0*p3)*p1 + p0)/(10**(p2 + 7.0*p3) + 1)], [163.85817086 - (10**(p2 + 7.5*p3)*p1 + p0)/(10**(p2 + 7.5*p3) + 1)], [163.55339958 - (10**(p2 + 8.0*p3)*p1 + p0)/(10**(p2 + 8.0*p3) + 1)], [163.86393263 - (10**(p2 + 8.5*p3)*p1 + p0)/(10**(p2 + 8.5*p3) + 1)], [163.90535931 - (10**(p2 + 9.0*p3)*p1 + p0)/(10**(p2 + 9.0*p3) + 1)], [163.44385491 - (10**(p2 + 9.5*p3)*p1 + p0)/(10**(p2 + 9.5*p3) + 1)]])\n",
      "<lambdifygenerated-8>:3: RuntimeWarning: overflow encountered in double_scalars\n",
      "  return array([[-1/(10**(p2 + 2.0*p3) + 1), -10**(p2 + 2.0*p3)/(10**(p2 + 2.0*p3) + 1), -10**(p2 + 2.0*p3)*p1*log(10)/(10**(p2 + 2.0*p3) + 1) + 10**(p2 + 2.0*p3)*(10**(p2 + 2.0*p3)*p1 + p0)*log(10)/(10**(p2 + 2.0*p3) + 1)**2, -2.0*10**(p2 + 2.0*p3)*p1*log(10)/(10**(p2 + 2.0*p3) + 1) + 2.0*10**(p2 + 2.0*p3)*(10**(p2 + 2.0*p3)*p1 + p0)*log(10)/(10**(p2 + 2.0*p3) + 1)**2], [-1/(10**(p2 + 2.5*p3) + 1), -10**(p2 + 2.5*p3)/(10**(p2 + 2.5*p3) + 1), -10**(p2 + 2.5*p3)*p1*log(10)/(10**(p2 + 2.5*p3) + 1) + 10**(p2 + 2.5*p3)*(10**(p2 + 2.5*p3)*p1 + p0)*log(10)/(10**(p2 + 2.5*p3) + 1)**2, -2.5*10**(p2 + 2.5*p3)*p1*log(10)/(10**(p2 + 2.5*p3) + 1) + 2.5*10**(p2 + 2.5*p3)*(10**(p2 + 2.5*p3)*p1 + p0)*log(10)/(10**(p2 + 2.5*p3) + 1)**2], [-1/(10**(p2 + 3.0*p3) + 1), -10**(p2 + 3.0*p3)/(10**(p2 + 3.0*p3) + 1), -10**(p2 + 3.0*p3)*p1*log(10)/(10**(p2 + 3.0*p3) + 1) + 10**(p2 + 3.0*p3)*(10**(p2 + 3.0*p3)*p1 + p0)*log(10)/(10**(p2 + 3.0*p3) + 1)**2, -3.0*10**(p2 + 3.0*p3)*p1*log(10)/(10**(p2 + 3.0*p3) + 1) + 3.0*10**(p2 + 3.0*p3)*(10**(p2 + 3.0*p3)*p1 + p0)*log(10)/(10**(p2 + 3.0*p3) + 1)**2], [-1/(10**(p2 + 3.5*p3) + 1), -10**(p2 + 3.5*p3)/(10**(p2 + 3.5*p3) + 1), -10**(p2 + 3.5*p3)*p1*log(10)/(10**(p2 + 3.5*p3) + 1) + 10**(p2 + 3.5*p3)*(10**(p2 + 3.5*p3)*p1 + p0)*log(10)/(10**(p2 + 3.5*p3) + 1)**2, -3.5*10**(p2 + 3.5*p3)*p1*log(10)/(10**(p2 + 3.5*p3) + 1) + 3.5*10**(p2 + 3.5*p3)*(10**(p2 + 3.5*p3)*p1 + p0)*log(10)/(10**(p2 + 3.5*p3) + 1)**2], [-1/(10**(p2 + 4.0*p3) + 1), -10**(p2 + 4.0*p3)/(10**(p2 + 4.0*p3) + 1), -10**(p2 + 4.0*p3)*p1*log(10)/(10**(p2 + 4.0*p3) + 1) + 10**(p2 + 4.0*p3)*(10**(p2 + 4.0*p3)*p1 + p0)*log(10)/(10**(p2 + 4.0*p3) + 1)**2, -4.0*10**(p2 + 4.0*p3)*p1*log(10)/(10**(p2 + 4.0*p3) + 1) + 4.0*10**(p2 + 4.0*p3)*(10**(p2 + 4.0*p3)*p1 + p0)*log(10)/(10**(p2 + 4.0*p3) + 1)**2], [-1/(10**(p2 + 4.5*p3) + 1), -10**(p2 + 4.5*p3)/(10**(p2 + 4.5*p3) + 1), -10**(p2 + 4.5*p3)*p1*log(10)/(10**(p2 + 4.5*p3) + 1) + 10**(p2 + 4.5*p3)*(10**(p2 + 4.5*p3)*p1 + p0)*log(10)/(10**(p2 + 4.5*p3) + 1)**2, -4.5*10**(p2 + 4.5*p3)*p1*log(10)/(10**(p2 + 4.5*p3) + 1) + 4.5*10**(p2 + 4.5*p3)*(10**(p2 + 4.5*p3)*p1 + p0)*log(10)/(10**(p2 + 4.5*p3) + 1)**2], [-1/(10**(p2 + 5.0*p3) + 1), -10**(p2 + 5.0*p3)/(10**(p2 + 5.0*p3) + 1), -10**(p2 + 5.0*p3)*p1*log(10)/(10**(p2 + 5.0*p3) + 1) + 10**(p2 + 5.0*p3)*(10**(p2 + 5.0*p3)*p1 + p0)*log(10)/(10**(p2 + 5.0*p3) + 1)**2, -5.0*10**(p2 + 5.0*p3)*p1*log(10)/(10**(p2 + 5.0*p3) + 1) + 5.0*10**(p2 + 5.0*p3)*(10**(p2 + 5.0*p3)*p1 + p0)*log(10)/(10**(p2 + 5.0*p3) + 1)**2], [-1/(10**(p2 + 5.5*p3) + 1), -10**(p2 + 5.5*p3)/(10**(p2 + 5.5*p3) + 1), -10**(p2 + 5.5*p3)*p1*log(10)/(10**(p2 + 5.5*p3) + 1) + 10**(p2 + 5.5*p3)*(10**(p2 + 5.5*p3)*p1 + p0)*log(10)/(10**(p2 + 5.5*p3) + 1)**2, -5.5*10**(p2 + 5.5*p3)*p1*log(10)/(10**(p2 + 5.5*p3) + 1) + 5.5*10**(p2 + 5.5*p3)*(10**(p2 + 5.5*p3)*p1 + p0)*log(10)/(10**(p2 + 5.5*p3) + 1)**2], [-1/(10**(p2 + 6.0*p3) + 1), -10**(p2 + 6.0*p3)/(10**(p2 + 6.0*p3) + 1), -10**(p2 + 6.0*p3)*p1*log(10)/(10**(p2 + 6.0*p3) + 1) + 10**(p2 + 6.0*p3)*(10**(p2 + 6.0*p3)*p1 + p0)*log(10)/(10**(p2 + 6.0*p3) + 1)**2, -6.0*10**(p2 + 6.0*p3)*p1*log(10)/(10**(p2 + 6.0*p3) + 1) + 6.0*10**(p2 + 6.0*p3)*(10**(p2 + 6.0*p3)*p1 + p0)*log(10)/(10**(p2 + 6.0*p3) + 1)**2], [-1/(10**(p2 + 6.5*p3) + 1), -10**(p2 + 6.5*p3)/(10**(p2 + 6.5*p3) + 1), -10**(p2 + 6.5*p3)*p1*log(10)/(10**(p2 + 6.5*p3) + 1) + 10**(p2 + 6.5*p3)*(10**(p2 + 6.5*p3)*p1 + p0)*log(10)/(10**(p2 + 6.5*p3) + 1)**2, -6.5*10**(p2 + 6.5*p3)*p1*log(10)/(10**(p2 + 6.5*p3) + 1) + 6.5*10**(p2 + 6.5*p3)*(10**(p2 + 6.5*p3)*p1 + p0)*log(10)/(10**(p2 + 6.5*p3) + 1)**2], [-1/(10**(p2 + 7.0*p3) + 1), -10**(p2 + 7.0*p3)/(10**(p2 + 7.0*p3) + 1), -10**(p2 + 7.0*p3)*p1*log(10)/(10**(p2 + 7.0*p3) + 1) + 10**(p2 + 7.0*p3)*(10**(p2 + 7.0*p3)*p1 + p0)*log(10)/(10**(p2 + 7.0*p3) + 1)**2, -7.0*10**(p2 + 7.0*p3)*p1*log(10)/(10**(p2 + 7.0*p3) + 1) + 7.0*10**(p2 + 7.0*p3)*(10**(p2 + 7.0*p3)*p1 + p0)*log(10)/(10**(p2 + 7.0*p3) + 1)**2], [-1/(10**(p2 + 7.5*p3) + 1), -10**(p2 + 7.5*p3)/(10**(p2 + 7.5*p3) + 1), -10**(p2 + 7.5*p3)*p1*log(10)/(10**(p2 + 7.5*p3) + 1) + 10**(p2 + 7.5*p3)*(10**(p2 + 7.5*p3)*p1 + p0)*log(10)/(10**(p2 + 7.5*p3) + 1)**2, -7.5*10**(p2 + 7.5*p3)*p1*log(10)/(10**(p2 + 7.5*p3) + 1) + 7.5*10**(p2 + 7.5*p3)*(10**(p2 + 7.5*p3)*p1 + p0)*log(10)/(10**(p2 + 7.5*p3) + 1)**2], [-1/(10**(p2 + 8.0*p3) + 1), -10**(p2 + 8.0*p3)/(10**(p2 + 8.0*p3) + 1), -10**(p2 + 8.0*p3)*p1*log(10)/(10**(p2 + 8.0*p3) + 1) + 10**(p2 + 8.0*p3)*(10**(p2 + 8.0*p3)*p1 + p0)*log(10)/(10**(p2 + 8.0*p3) + 1)**2, -8.0*10**(p2 + 8.0*p3)*p1*log(10)/(10**(p2 + 8.0*p3) + 1) + 8.0*10**(p2 + 8.0*p3)*(10**(p2 + 8.0*p3)*p1 + p0)*log(10)/(10**(p2 + 8.0*p3) + 1)**2], [-1/(10**(p2 + 8.5*p3) + 1), -10**(p2 + 8.5*p3)/(10**(p2 + 8.5*p3) + 1), -10**(p2 + 8.5*p3)*p1*log(10)/(10**(p2 + 8.5*p3) + 1) + 10**(p2 + 8.5*p3)*(10**(p2 + 8.5*p3)*p1 + p0)*log(10)/(10**(p2 + 8.5*p3) + 1)**2, -8.5*10**(p2 + 8.5*p3)*p1*log(10)/(10**(p2 + 8.5*p3) + 1) + 8.5*10**(p2 + 8.5*p3)*(10**(p2 + 8.5*p3)*p1 + p0)*log(10)/(10**(p2 + 8.5*p3) + 1)**2], [-1/(10**(p2 + 9.0*p3) + 1), -10**(p2 + 9.0*p3)/(10**(p2 + 9.0*p3) + 1), -10**(p2 + 9.0*p3)*p1*log(10)/(10**(p2 + 9.0*p3) + 1) + 10**(p2 + 9.0*p3)*(10**(p2 + 9.0*p3)*p1 + p0)*log(10)/(10**(p2 + 9.0*p3) + 1)**2, -9.0*10**(p2 + 9.0*p3)*p1*log(10)/(10**(p2 + 9.0*p3) + 1) + 9.0*10**(p2 + 9.0*p3)*(10**(p2 + 9.0*p3)*p1 + p0)*log(10)/(10**(p2 + 9.0*p3) + 1)**2], [-1/(10**(p2 + 9.5*p3) + 1), -10**(p2 + 9.5*p3)/(10**(p2 + 9.5*p3) + 1), -10**(p2 + 9.5*p3)*p1*log(10)/(10**(p2 + 9.5*p3) + 1) + 10**(p2 + 9.5*p3)*(10**(p2 + 9.5*p3)*p1 + p0)*log(10)/(10**(p2 + 9.5*p3) + 1)**2, -9.5*10**(p2 + 9.5*p3)*p1*log(10)/(10**(p2 + 9.5*p3) + 1) + 9.5*10**(p2 + 9.5*p3)*(10**(p2 + 9.5*p3)*p1 + p0)*log(10)/(10**(p2 + 9.5*p3) + 1)**2]])\n",
      "<lambdifygenerated-8>:3: RuntimeWarning: invalid value encountered in double_scalars\n",
      "  return array([[-1/(10**(p2 + 2.0*p3) + 1), -10**(p2 + 2.0*p3)/(10**(p2 + 2.0*p3) + 1), -10**(p2 + 2.0*p3)*p1*log(10)/(10**(p2 + 2.0*p3) + 1) + 10**(p2 + 2.0*p3)*(10**(p2 + 2.0*p3)*p1 + p0)*log(10)/(10**(p2 + 2.0*p3) + 1)**2, -2.0*10**(p2 + 2.0*p3)*p1*log(10)/(10**(p2 + 2.0*p3) + 1) + 2.0*10**(p2 + 2.0*p3)*(10**(p2 + 2.0*p3)*p1 + p0)*log(10)/(10**(p2 + 2.0*p3) + 1)**2], [-1/(10**(p2 + 2.5*p3) + 1), -10**(p2 + 2.5*p3)/(10**(p2 + 2.5*p3) + 1), -10**(p2 + 2.5*p3)*p1*log(10)/(10**(p2 + 2.5*p3) + 1) + 10**(p2 + 2.5*p3)*(10**(p2 + 2.5*p3)*p1 + p0)*log(10)/(10**(p2 + 2.5*p3) + 1)**2, -2.5*10**(p2 + 2.5*p3)*p1*log(10)/(10**(p2 + 2.5*p3) + 1) + 2.5*10**(p2 + 2.5*p3)*(10**(p2 + 2.5*p3)*p1 + p0)*log(10)/(10**(p2 + 2.5*p3) + 1)**2], [-1/(10**(p2 + 3.0*p3) + 1), -10**(p2 + 3.0*p3)/(10**(p2 + 3.0*p3) + 1), -10**(p2 + 3.0*p3)*p1*log(10)/(10**(p2 + 3.0*p3) + 1) + 10**(p2 + 3.0*p3)*(10**(p2 + 3.0*p3)*p1 + p0)*log(10)/(10**(p2 + 3.0*p3) + 1)**2, -3.0*10**(p2 + 3.0*p3)*p1*log(10)/(10**(p2 + 3.0*p3) + 1) + 3.0*10**(p2 + 3.0*p3)*(10**(p2 + 3.0*p3)*p1 + p0)*log(10)/(10**(p2 + 3.0*p3) + 1)**2], [-1/(10**(p2 + 3.5*p3) + 1), -10**(p2 + 3.5*p3)/(10**(p2 + 3.5*p3) + 1), -10**(p2 + 3.5*p3)*p1*log(10)/(10**(p2 + 3.5*p3) + 1) + 10**(p2 + 3.5*p3)*(10**(p2 + 3.5*p3)*p1 + p0)*log(10)/(10**(p2 + 3.5*p3) + 1)**2, -3.5*10**(p2 + 3.5*p3)*p1*log(10)/(10**(p2 + 3.5*p3) + 1) + 3.5*10**(p2 + 3.5*p3)*(10**(p2 + 3.5*p3)*p1 + p0)*log(10)/(10**(p2 + 3.5*p3) + 1)**2], [-1/(10**(p2 + 4.0*p3) + 1), -10**(p2 + 4.0*p3)/(10**(p2 + 4.0*p3) + 1), -10**(p2 + 4.0*p3)*p1*log(10)/(10**(p2 + 4.0*p3) + 1) + 10**(p2 + 4.0*p3)*(10**(p2 + 4.0*p3)*p1 + p0)*log(10)/(10**(p2 + 4.0*p3) + 1)**2, -4.0*10**(p2 + 4.0*p3)*p1*log(10)/(10**(p2 + 4.0*p3) + 1) + 4.0*10**(p2 + 4.0*p3)*(10**(p2 + 4.0*p3)*p1 + p0)*log(10)/(10**(p2 + 4.0*p3) + 1)**2], [-1/(10**(p2 + 4.5*p3) + 1), -10**(p2 + 4.5*p3)/(10**(p2 + 4.5*p3) + 1), -10**(p2 + 4.5*p3)*p1*log(10)/(10**(p2 + 4.5*p3) + 1) + 10**(p2 + 4.5*p3)*(10**(p2 + 4.5*p3)*p1 + p0)*log(10)/(10**(p2 + 4.5*p3) + 1)**2, -4.5*10**(p2 + 4.5*p3)*p1*log(10)/(10**(p2 + 4.5*p3) + 1) + 4.5*10**(p2 + 4.5*p3)*(10**(p2 + 4.5*p3)*p1 + p0)*log(10)/(10**(p2 + 4.5*p3) + 1)**2], [-1/(10**(p2 + 5.0*p3) + 1), -10**(p2 + 5.0*p3)/(10**(p2 + 5.0*p3) + 1), -10**(p2 + 5.0*p3)*p1*log(10)/(10**(p2 + 5.0*p3) + 1) + 10**(p2 + 5.0*p3)*(10**(p2 + 5.0*p3)*p1 + p0)*log(10)/(10**(p2 + 5.0*p3) + 1)**2, -5.0*10**(p2 + 5.0*p3)*p1*log(10)/(10**(p2 + 5.0*p3) + 1) + 5.0*10**(p2 + 5.0*p3)*(10**(p2 + 5.0*p3)*p1 + p0)*log(10)/(10**(p2 + 5.0*p3) + 1)**2], [-1/(10**(p2 + 5.5*p3) + 1), -10**(p2 + 5.5*p3)/(10**(p2 + 5.5*p3) + 1), -10**(p2 + 5.5*p3)*p1*log(10)/(10**(p2 + 5.5*p3) + 1) + 10**(p2 + 5.5*p3)*(10**(p2 + 5.5*p3)*p1 + p0)*log(10)/(10**(p2 + 5.5*p3) + 1)**2, -5.5*10**(p2 + 5.5*p3)*p1*log(10)/(10**(p2 + 5.5*p3) + 1) + 5.5*10**(p2 + 5.5*p3)*(10**(p2 + 5.5*p3)*p1 + p0)*log(10)/(10**(p2 + 5.5*p3) + 1)**2], [-1/(10**(p2 + 6.0*p3) + 1), -10**(p2 + 6.0*p3)/(10**(p2 + 6.0*p3) + 1), -10**(p2 + 6.0*p3)*p1*log(10)/(10**(p2 + 6.0*p3) + 1) + 10**(p2 + 6.0*p3)*(10**(p2 + 6.0*p3)*p1 + p0)*log(10)/(10**(p2 + 6.0*p3) + 1)**2, -6.0*10**(p2 + 6.0*p3)*p1*log(10)/(10**(p2 + 6.0*p3) + 1) + 6.0*10**(p2 + 6.0*p3)*(10**(p2 + 6.0*p3)*p1 + p0)*log(10)/(10**(p2 + 6.0*p3) + 1)**2], [-1/(10**(p2 + 6.5*p3) + 1), -10**(p2 + 6.5*p3)/(10**(p2 + 6.5*p3) + 1), -10**(p2 + 6.5*p3)*p1*log(10)/(10**(p2 + 6.5*p3) + 1) + 10**(p2 + 6.5*p3)*(10**(p2 + 6.5*p3)*p1 + p0)*log(10)/(10**(p2 + 6.5*p3) + 1)**2, -6.5*10**(p2 + 6.5*p3)*p1*log(10)/(10**(p2 + 6.5*p3) + 1) + 6.5*10**(p2 + 6.5*p3)*(10**(p2 + 6.5*p3)*p1 + p0)*log(10)/(10**(p2 + 6.5*p3) + 1)**2], [-1/(10**(p2 + 7.0*p3) + 1), -10**(p2 + 7.0*p3)/(10**(p2 + 7.0*p3) + 1), -10**(p2 + 7.0*p3)*p1*log(10)/(10**(p2 + 7.0*p3) + 1) + 10**(p2 + 7.0*p3)*(10**(p2 + 7.0*p3)*p1 + p0)*log(10)/(10**(p2 + 7.0*p3) + 1)**2, -7.0*10**(p2 + 7.0*p3)*p1*log(10)/(10**(p2 + 7.0*p3) + 1) + 7.0*10**(p2 + 7.0*p3)*(10**(p2 + 7.0*p3)*p1 + p0)*log(10)/(10**(p2 + 7.0*p3) + 1)**2], [-1/(10**(p2 + 7.5*p3) + 1), -10**(p2 + 7.5*p3)/(10**(p2 + 7.5*p3) + 1), -10**(p2 + 7.5*p3)*p1*log(10)/(10**(p2 + 7.5*p3) + 1) + 10**(p2 + 7.5*p3)*(10**(p2 + 7.5*p3)*p1 + p0)*log(10)/(10**(p2 + 7.5*p3) + 1)**2, -7.5*10**(p2 + 7.5*p3)*p1*log(10)/(10**(p2 + 7.5*p3) + 1) + 7.5*10**(p2 + 7.5*p3)*(10**(p2 + 7.5*p3)*p1 + p0)*log(10)/(10**(p2 + 7.5*p3) + 1)**2], [-1/(10**(p2 + 8.0*p3) + 1), -10**(p2 + 8.0*p3)/(10**(p2 + 8.0*p3) + 1), -10**(p2 + 8.0*p3)*p1*log(10)/(10**(p2 + 8.0*p3) + 1) + 10**(p2 + 8.0*p3)*(10**(p2 + 8.0*p3)*p1 + p0)*log(10)/(10**(p2 + 8.0*p3) + 1)**2, -8.0*10**(p2 + 8.0*p3)*p1*log(10)/(10**(p2 + 8.0*p3) + 1) + 8.0*10**(p2 + 8.0*p3)*(10**(p2 + 8.0*p3)*p1 + p0)*log(10)/(10**(p2 + 8.0*p3) + 1)**2], [-1/(10**(p2 + 8.5*p3) + 1), -10**(p2 + 8.5*p3)/(10**(p2 + 8.5*p3) + 1), -10**(p2 + 8.5*p3)*p1*log(10)/(10**(p2 + 8.5*p3) + 1) + 10**(p2 + 8.5*p3)*(10**(p2 + 8.5*p3)*p1 + p0)*log(10)/(10**(p2 + 8.5*p3) + 1)**2, -8.5*10**(p2 + 8.5*p3)*p1*log(10)/(10**(p2 + 8.5*p3) + 1) + 8.5*10**(p2 + 8.5*p3)*(10**(p2 + 8.5*p3)*p1 + p0)*log(10)/(10**(p2 + 8.5*p3) + 1)**2], [-1/(10**(p2 + 9.0*p3) + 1), -10**(p2 + 9.0*p3)/(10**(p2 + 9.0*p3) + 1), -10**(p2 + 9.0*p3)*p1*log(10)/(10**(p2 + 9.0*p3) + 1) + 10**(p2 + 9.0*p3)*(10**(p2 + 9.0*p3)*p1 + p0)*log(10)/(10**(p2 + 9.0*p3) + 1)**2, -9.0*10**(p2 + 9.0*p3)*p1*log(10)/(10**(p2 + 9.0*p3) + 1) + 9.0*10**(p2 + 9.0*p3)*(10**(p2 + 9.0*p3)*p1 + p0)*log(10)/(10**(p2 + 9.0*p3) + 1)**2], [-1/(10**(p2 + 9.5*p3) + 1), -10**(p2 + 9.5*p3)/(10**(p2 + 9.5*p3) + 1), -10**(p2 + 9.5*p3)*p1*log(10)/(10**(p2 + 9.5*p3) + 1) + 10**(p2 + 9.5*p3)*(10**(p2 + 9.5*p3)*p1 + p0)*log(10)/(10**(p2 + 9.5*p3) + 1)**2, -9.5*10**(p2 + 9.5*p3)*p1*log(10)/(10**(p2 + 9.5*p3) + 1) + 9.5*10**(p2 + 9.5*p3)*(10**(p2 + 9.5*p3)*p1 + p0)*log(10)/(10**(p2 + 9.5*p3) + 1)**2]])\n"
     ]
    }
   ],
   "source": [
    "damping = 0\n",
    "[lam_with,n] = gauss_newton_d(g, Dg, lam0, tol, max_iter, pmax, damping)\n",
    "\n",
    "#das ungedämpfte Verfahren divergiert"
   ]
  },
  {
   "cell_type": "code",
   "execution_count": 43,
   "id": "8c52e4c4",
   "metadata": {},
   "outputs": [
    {
     "name": "stdout",
     "output_type": "stream",
     "text": [
      "Optimization terminated successfully.\n",
      "         Current function value: 0.591847\n",
      "         Iterations: 333\n",
      "         Function evaluations: 573\n"
     ]
    },
    {
     "data": {
      "text/plain": [
       "array([163.88256553, 159.47427156,   2.17225694,  -0.4293443 ])"
      ]
     },
     "execution_count": 43,
     "metadata": {},
     "output_type": "execute_result"
    }
   ],
   "source": [
    "import scipy.optimize\n",
    "\n",
    "def err_func(x):\n",
    "    return np.linalg.norm(g(x))**2 # fügen Sie den richtigen Rückgabewert ein\n",
    "\n",
    "xopt = scipy.optimize.fmin(err_func, lam0)\n",
    "\n",
    "xopt"
   ]
  },
  {
   "cell_type": "code",
   "execution_count": null,
   "id": "e6cdf9ef",
   "metadata": {},
   "outputs": [],
   "source": []
  }
 ],
 "metadata": {
  "kernelspec": {
   "display_name": "Python 3 (ipykernel)",
   "language": "python",
   "name": "python3"
  },
  "language_info": {
   "codemirror_mode": {
    "name": "ipython",
    "version": 3
   },
   "file_extension": ".py",
   "mimetype": "text/x-python",
   "name": "python",
   "nbconvert_exporter": "python",
   "pygments_lexer": "ipython3",
   "version": "3.9.13"
  }
 },
 "nbformat": 4,
 "nbformat_minor": 5
}
