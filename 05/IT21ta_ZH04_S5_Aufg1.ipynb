{
 "cells": [
  {
   "cell_type": "code",
   "execution_count": 52,
   "metadata": {},
   "outputs": [
    {
     "name": "stdout",
     "output_type": "stream",
     "text": [
      "Newton-Verfahren\n",
      "1: 1.795\n",
      "2: 1.6251\n",
      "3: 1.5308\n",
      "4: 1.5086\n",
      "\n",
      " Vereinfachtes Newton-Verfahren\n",
      "1: 0.4847\n",
      "2: 0.4857\n",
      "3: 0.4856\n",
      "4: 0.4856\n",
      "\n",
      " Sekantenverfahren\n",
      "1: -1.861\n",
      "2: -1.3494\n",
      "3: -1.4326\n",
      "4: -1.5594\n"
     ]
    },
    {
     "data": {
      "image/png": "[encoded data removed]",
      "text/plain": [
       "<Figure size 432x288 with 1 Axes>"
      ]
     },
     "metadata": {
      "needs_background": "light"
     },
     "output_type": "display_data"
    }
   ],
   "source": [
    "import numpy as np\n",
    "import matplotlib.pyplot as plt\n",
    "\n",
    "\n",
    "def function(x):\n",
    "    return np.exp(x**2) + x**-3 - 10\n",
    "\n",
    "def function_derivative(x):\n",
    "    return 2*np.exp(x**2)*x - 3/x**4\n",
    "\n",
    "def newton_full(x):\n",
    "    return x - function(x)/function_derivative(x)\n",
    "\n",
    "def newton_easy(x, xbefore):\n",
    "    return x - function(x)/function_derivative(xbefore)\n",
    "\n",
    "def sekanten(current, last):\n",
    "    return current - ((current - last) / ( function(current) - function(last)) * function(current))\n",
    "\n",
    "#def execute(f, x0, x1 steps):\n",
    "#    xnew = x1\n",
    "#    for i in range(0,steps):\n",
    "#        xold = xnew\n",
    "#        xnew = f(xold)\n",
    "#        i += 1\n",
    "#        print(xnew)\n",
    "\n",
    "\n",
    "xvalues = np.arange(-10, 10, 0.01)\n",
    "\n",
    "plt.plot(xvalues, function(xvalues))\n",
    "plt.grid()\n",
    "plt.ylim(-50, 50)\n",
    "plt.xlim(-3, 3)\n",
    "\n",
    "print(\"Newton-Verfahren\")\n",
    "x0 = 2\n",
    "next = x0\n",
    "for i in range(0,4):\n",
    "    current = next\n",
    "    next = newton_full(current)\n",
    "    i += 1\n",
    "    print(str(i) + \": \" + str(round(next, 4)))\n",
    "\n",
    "print(\"\\n Vereinfachtes Newton-Verfahren\")\n",
    "\n",
    "x0 = 0.5\n",
    "next = x0\n",
    "for i in range(0,4):\n",
    "    current = next\n",
    "    next = newton_easy(current, x0)\n",
    "    i += 1\n",
    "    print(str(i) + \": \" + str(round(next, 4)))\n",
    "\n",
    "print(\"\\n Sekantenverfahren\")\n",
    "x0 = -1\n",
    "x1 = -1.2\n",
    "current = x0\n",
    "next = x1\n",
    "for i in range(0,4):\n",
    "    last = current\n",
    "    current = next\n",
    "    next = sekanten(current, last)\n",
    "    i += 1\n",
    "    print(str(i) + \": \" + str(round(next, 4)))\n",
    "\n",
    "\n",
    "\n",
    "\n",
    "\n"
   ]
  },
  {
   "cell_type": "code",
   "execution_count": null,
   "metadata": {},
   "outputs": [],
   "source": []
  }
 ],
 "metadata": {
  "kernelspec": {
   "display_name": "Python 3.9.12 ('base')",
   "language": "python",
   "name": "python3"
  },
  "language_info": {
   "codemirror_mode": {
    "name": "ipython",
    "version": 3
   },
   "file_extension": ".py",
   "mimetype": "text/x-python",
   "name": "python",
   "nbconvert_exporter": "python",
   "pygments_lexer": "ipython3",
   "version": "3.9.12"
  },
  "orig_nbformat": 4,
  "vscode": {
   "interpreter": {
    "hash": "d7ce3127bba36e76ebf4d42dcc5290d5961c35cb59364da7480f410951fa66d2"
   }
  }
 },
 "nbformat": 4,
 "nbformat_minor": 2
}
