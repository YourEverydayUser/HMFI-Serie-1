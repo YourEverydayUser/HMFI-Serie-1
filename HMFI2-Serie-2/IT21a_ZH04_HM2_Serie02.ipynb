{
 "cells": [
  {
   "cell_type": "markdown",
   "id": "e717149b",
   "metadata": {},
   "source": [
    "#### Aufgabe 2"
   ]
  },
  {
   "cell_type": "code",
   "execution_count": 34,
   "id": "2127e6a0",
   "metadata": {},
   "outputs": [
    {
     "name": "stdout",
     "output_type": "stream",
     "text": [
      "[[10  5]\n",
      " [ 9  6]]\n"
     ]
    }
   ],
   "source": [
    "import numpy as np\n",
    "import sympy as sp\n",
    "\n",
    "#Teilaufgabe a.)\n",
    "x, y = sp.symbols('x y')\n",
    "\n",
    "f1 = 5*x*y\n",
    "f2 = x**2 * y**2 + x + 2*y\n",
    "x0 = np.array([1, 2])\n",
    "\n",
    "h = f1.subs([(x, 1), (y, 2)])\n",
    "f = sp.Matrix([f1, f2])\n",
    "X = sp.Matrix([x, y])\n",
    "\n",
    "Df = f.jacobian(X)\n",
    "Df0 = Df.subs([(x, 1), (y, 2)])\n",
    "\n",
    "func1 = sp.lambdify((x, y), f)\n",
    "jac = sp.lambdify((x, y), Df)\n",
    "\n",
    "print(jac(x0[0], x0[1]))"
   ]
  },
  {
   "cell_type": "code",
   "execution_count": 33,
   "id": "63683732",
   "metadata": {},
   "outputs": [
    {
     "name": "stdout",
     "output_type": "stream",
     "text": [
      "[[ 4.00000000e-01  8.00000000e-01  6.00000000e+00]\n",
      " [ 2.00000000e+00  1.76965357e+06  2.65448035e+06]\n",
      " [-2.00000000e-02  4.00000000e+00 -6.00000000e-02]]\n"
     ]
    }
   ],
   "source": [
    "#Teilaufgabe b.)\n",
    "x, y, z = sp.symbols('x y z')\n",
    "\n",
    "f1 = sp.log(x**2 + y**2) + z**2\n",
    "f2 = sp.exp(y**2+z**2) + x**2\n",
    "f3 = 1 / (z**2 + x**2) + y**2\n",
    "\n",
    "f = sp.Matrix([f1, f2, f3])\n",
    "X = sp.Matrix([x, y, z])\n",
    "\n",
    "Df = f.jacobian(X)\n",
    "\n",
    "func = sp.lambdify([(x, y, z)], f, \"numpy\")\n",
    "jac = sp.lambdify((x, y, z), Df, \"numpy\")\n",
    "x0 = np.array([1, 2, 3])\n",
    "\n",
    "#print(jac(x0)) #??? funktioniert nicht\n",
    "print(jac(1, 2, 3))"
   ]
  },
  {
   "cell_type": "markdown",
   "id": "e0b837bc",
   "metadata": {},
   "source": [
    "#### Aufgabe 3"
   ]
  },
  {
   "cell_type": "code",
   "execution_count": 68,
   "id": "0ada6ad6",
   "metadata": {},
   "outputs": [],
   "source": [
    "x, y, z = sp.symbols('x y z')\n",
    "\n",
    "f1 = x + y**2 - z**2 - 13\n",
    "f2 = sp.log(y/4) + sp.exp(0.5*z - 1) - 1\n",
    "f3 = (y - 3)**2 - z**3 + 7\n",
    "\n",
    "f = sp.Matrix([f1, f2, f3])\n",
    "X = sp.Matrix([x, y, z])\n",
    "\n",
    "Df = f.jacobian(X)\n",
    "\n",
    "func = sp.lambdify([(x, y, z)], f, \"numpy\")\n",
    "jac = sp.lambdify((x, y, z), Df, \"numpy\")"
   ]
  },
  {
   "cell_type": "markdown",
   "id": "38ffd310",
   "metadata": {},
   "source": [
    "$g(x)=f\\begin{pmatrix} 1.5 \\\\ 3 \\\\ 2.5 \\end{pmatrix} + Df\\begin{pmatrix} 1.5 \\\\ 3 \\\\ 2.5 \\end{pmatrix} \\cdot (\\overrightarrow{x}-\\begin{pmatrix} 1.5 \\\\ 3 \\\\ 2.5 \\end{pmatrix})$\n",
    "\n",
    "$Df = \\begin{pmatrix} 1 & 2y & -2z \\\\ 0 & \\frac{1}{y} & \\frac{1}{2}e^{\\frac{1}{2}z-1} \\\\ 0 & 2y-6 & -3z^2 \\end{pmatrix}$"
   ]
  },
  {
   "cell_type": "code",
   "execution_count": 76,
   "id": "1e939ec0",
   "metadata": {},
   "outputs": [
    {
     "name": "stdout",
     "output_type": "stream",
     "text": [
      "[6.0*y - 5.0*z - 13.75]\n",
      "[0.333333333333333*y + 0.642012708343871*z - 2.60868842662372]\n",
      "[38.25 - 18.75*z]\n"
     ]
    }
   ],
   "source": [
    "from numpy import transpose as t\n",
    "\n",
    "g = t(func([1.5, 3, 2.5])) + jac(1.5, 3, 2.5)@(t(np.array([x, y, z]) - np.array([1.5, 3, 2.5])))\n",
    "tg = t(g)\n",
    "\n",
    "for x in range(len(tg)):\n",
    "    print(tg[x])"
   ]
  },
  {
   "cell_type": "code",
   "execution_count": null,
   "id": "e24d5b8f",
   "metadata": {},
   "outputs": [],
   "source": []
  }
 ],
 "metadata": {
  "kernelspec": {
   "display_name": "Python 3 (ipykernel)",
   "language": "python",
   "name": "python3"
  },
  "language_info": {
   "codemirror_mode": {
    "name": "ipython",
    "version": 3
   },
   "file_extension": ".py",
   "mimetype": "text/x-python",
   "name": "python",
   "nbconvert_exporter": "python",
   "pygments_lexer": "ipython3",
   "version": "3.9.13"
  }
 },
 "nbformat": 4,
 "nbformat_minor": 5
}
