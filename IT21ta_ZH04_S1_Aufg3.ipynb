{
 "cells": [
  {
   "cell_type": "code",
   "execution_count": null,
   "metadata": {},
   "outputs": [],
   "source": [
    "import numpy as np\n",
    "import matplotlib.pyplot as plt\n",
    "import timeit\n",
    "\n",
    "def fact_rec(n):\n",
    "    import numpy as np\n",
    "    if n < 0 or np.trunc(n) != n:\n",
    "        raise Exception('The factorial is defined only for positive integers')\n",
    "    if n <= 1:\n",
    "        return 1\n",
    "    else:\n",
    "        return n * fact_rec(n-1)\n",
    "    \n",
    "def fact_for(n):\n",
    "    product = 1\n",
    "    \n",
    "    while n > 0:\n",
    "        product *= n\n",
    "        n -= 1\n",
    "        \n",
    "    return product\n",
    "\n",
    "t1 = timeit.repeat(\"fact_rec(50)\", \"from __main__ import fact_rec\", number=100)\n",
    "t2 = timeit.repeat(\"fact_for(50)\", \"from __main__ import fact_for\", number=100)\n",
    "    \n",
    "print(t1)\n",
    "print(t2)"
   ]
  }
 ],
 "metadata": {
  "language_info": {
   "name": "python"
  }
 },
 "nbformat": 4,
 "nbformat_minor": 5
}
