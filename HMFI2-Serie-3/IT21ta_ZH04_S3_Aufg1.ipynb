{
 "cells": [
  {
   "cell_type": "code",
   "execution_count": 9,
   "metadata": {
    "collapsed": true
   },
   "outputs": [],
   "source": [
    "import numpy as np\n",
    "import sympy as sp\n",
    "sp.init_printing()      # schöner Output im Jupyter Notebook."
   ]
  },
  {
   "cell_type": "code",
   "execution_count": 10,
   "outputs": [],
   "source": [
    "x, y = sp.symbols('x y')"
   ],
   "metadata": {
    "collapsed": false
   }
  },
  {
   "cell_type": "code",
   "execution_count": 11,
   "outputs": [
    {
     "data": {
      "text/plain": "⎡           2     ⎤\n⎢-18⋅x - 2⋅y  + 20⎥\n⎢                 ⎥\n⎢       ⎛     2⎞  ⎥\n⎣  -4⋅y⋅⎝x - y ⎠  ⎦",
      "text/latex": "$\\displaystyle \\left[\\begin{matrix}- 18 x - 2 y^{2} + 20\\\\- 4 y \\left(x - y^{2}\\right)\\end{matrix}\\right]$"
     },
     "execution_count": 11,
     "metadata": {},
     "output_type": "execute_result"
    }
   ],
   "source": [
    "f1 = 20 - 18*x - 2*y**2\n",
    "f2 = -4*y * (x - y**2)\n",
    "f = sp.Matrix([f1,f2])\n",
    "f"
   ],
   "metadata": {
    "collapsed": false
   }
  },
  {
   "cell_type": "code",
   "execution_count": 12,
   "outputs": [
    {
     "data": {
      "text/plain": "⎡-18       -4⋅y    ⎤\n⎢                  ⎥\n⎢                 2⎥\n⎣-4⋅y  -4⋅x + 12⋅y ⎦",
      "text/latex": "$\\displaystyle \\left[\\begin{matrix}-18 & - 4 y\\\\- 4 y & - 4 x + 12 y^{2}\\end{matrix}\\right]$"
     },
     "execution_count": 12,
     "metadata": {},
     "output_type": "execute_result"
    }
   ],
   "source": [
    "Df = f.jacobian([x,y])\n",
    "Df"
   ],
   "metadata": {
    "collapsed": false
   }
  },
  {
   "cell_type": "code",
   "execution_count": 13,
   "outputs": [],
   "source": [
    "f = sp.lambdify([([x], [y])], f, 'numpy')\n",
    "Df = sp.lambdify([([x], [y])], Df, 'numpy')"
   ],
   "metadata": {
    "collapsed": false
   }
  },
  {
   "cell_type": "code",
   "execution_count": 14,
   "outputs": [],
   "source": [
    "x = np.array([[1.1],[0.9]])"
   ],
   "metadata": {
    "collapsed": false
   }
  },
  {
   "cell_type": "code",
   "execution_count": 15,
   "outputs": [
    {
     "name": "stdout",
     "output_type": "stream",
     "text": [
      "0\n",
      "Df(x)\n",
      "[[-18.    -3.6 ]\n",
      " [ -3.6    5.32]]\n",
      "f(x)\n",
      "[[-1.42 ]\n",
      " [-1.044]]\n",
      "Delta\n",
      "[[-0.10405445]\n",
      " [ 0.12582781]]\n",
      "[[0.99594555]\n",
      " [1.02582781]]\n",
      "Norm ||f(x)||2\n",
      "0.23349016523989502\n",
      "Norm ||Delta||2\n",
      "0.1632788040724395\n",
      "\n",
      "\n",
      "1\n",
      "Df(x)\n",
      "[[-18.          -4.10331126]\n",
      " [ -4.10331126   8.64409027]]\n",
      "f(x)\n",
      "[[-0.03166528]\n",
      " [ 0.23133302]]\n",
      "Delta\n",
      "[[ 0.00391759]\n",
      " [-0.02490232]]\n",
      "[[0.99986314]\n",
      " [1.00092549]]\n",
      "Norm ||f(x)||2\n",
      "0.008058180551403837\n",
      "Norm ||Delta||2\n",
      "0.02520859288823091\n",
      "\n",
      "\n",
      "2\n",
      "Df(x)\n",
      "[[-18.          -4.00370197]\n",
      " [ -4.00370197   8.02276954]]\n",
      "f(x)\n",
      "[[-0.00124025]\n",
      " [ 0.00796216]]\n",
      "Delta\n",
      "[[ 0.00013667]\n",
      " [-0.00092424]]\n",
      "[[0.99999982]\n",
      " [1.00000125]]\n",
      "Norm ||f(x)||2\n",
      "1.0896993694956447e-05\n",
      "Norm ||Delta||2\n",
      "0.0009342905421780229\n",
      "\n",
      "\n",
      "3\n",
      "Df(x)\n",
      "[[-18.          -4.00000501]\n",
      " [ -4.00000501   8.00003082]]\n",
      "f(x)\n",
      "[[-1.70843816e-06]\n",
      " [ 1.07622354e-05]]\n",
      "Delta\n",
      "[[ 1.83633302e-07]\n",
      " [-1.25345783e-06]]\n",
      "[[1.]\n",
      " [1.]]\n",
      "Norm ||f(x)||2\n",
      "2.0021809739688766e-11\n",
      "Norm ||Delta||2\n",
      "1.2668376847068327e-06\n",
      "\n",
      "\n"
     ]
    }
   ],
   "source": [
    "for k in range(4):\n",
    "    print(k)\n",
    "    d = np.linalg.solve(Df(x), -f(x))\n",
    "    print(\"Df(x)\")\n",
    "    print(Df(x))\n",
    "    print(\"f(x)\")\n",
    "    print(f(x))\n",
    "    print(\"Delta\")\n",
    "    print(d)\n",
    "    x += d\n",
    "    print(x)\n",
    "    print(\"Norm ||f(x)||2\")\n",
    "    print(np.linalg.norm(f(x), 2))\n",
    "    print(\"Norm ||Delta||2\")\n",
    "    print(np.linalg.norm(d, 2))\n",
    "    print(\"\\n\")"
   ],
   "metadata": {
    "collapsed": false
   }
  }
 ],
 "metadata": {
  "kernelspec": {
   "display_name": "Python 3",
   "language": "python",
   "name": "python3"
  },
  "language_info": {
   "codemirror_mode": {
    "name": "ipython",
    "version": 2
   },
   "file_extension": ".py",
   "mimetype": "text/x-python",
   "name": "python",
   "nbconvert_exporter": "python",
   "pygments_lexer": "ipython2",
   "version": "2.7.6"
  }
 },
 "nbformat": 4,
 "nbformat_minor": 0
}
