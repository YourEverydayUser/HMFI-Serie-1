{
 "cells": [
  {
   "cell_type": "code",
   "execution_count": 112,
   "id": "11f8269a",
   "metadata": {},
   "outputs": [],
   "source": [
    "import numpy as np\n",
    "\n",
    "def ITZH_21ta_S09_Aufg3(f, a, b, m):\n",
    "    T = np.zeros((m+1, m+1))\n",
    "   \n",
    "    #initialisiere 1. Spalte mit Trapezwerten\n",
    "    for j in range(m+1):\n",
    "        n_j = 2**j\n",
    "        h_j = (b-a)/n_j\n",
    "        sum = 0\n",
    "        \n",
    "        for i in range(1, n_j):\n",
    "            x_i = a + i * h_j\n",
    "            sum += f(x_i)\n",
    "                \n",
    "        T[j, 0] = h_j * ((f(a) + f(b))/2 + sum)\n",
    "    #Extrapolation\n",
    "    for k in range(1, m+1):\n",
    "        for j in range(m+1-k):\n",
    "            T[j, k] = (4**k * T[j+1][k-1]-T[j][k-1]) / (4**k-1)\n",
    "    \n",
    "    return T\n",
    "\n",
    "def f(x):\n",
    "    return 1/x"
   ]
  },
  {
   "cell_type": "code",
   "execution_count": 113,
   "id": "ded6d81f",
   "metadata": {},
   "outputs": [],
   "source": [
    "a = 2\n",
    "b = 4\n",
    "m = 3"
   ]
  },
  {
   "cell_type": "code",
   "execution_count": 114,
   "id": "06c4ac74",
   "metadata": {},
   "outputs": [
    {
     "data": {
      "text/plain": [
       "array([[0.75      , 0.69444444, 0.6931746 , 0.69314748],\n",
       "       [0.70833333, 0.69325397, 0.6931479 , 0.        ],\n",
       "       [0.69702381, 0.69315453, 0.        , 0.        ],\n",
       "       [0.69412185, 0.        , 0.        , 0.        ]])"
      ]
     },
     "execution_count": 114,
     "metadata": {},
     "output_type": "execute_result"
    }
   ],
   "source": [
    "ITZH_21ta_S09_Aufg3(f, a, b, m)"
   ]
  },
  {
   "cell_type": "code",
   "execution_count": null,
   "id": "99e7bfa9",
   "metadata": {},
   "outputs": [],
   "source": []
  }
 ],
 "metadata": {
  "kernelspec": {
   "display_name": "Python 3 (ipykernel)",
   "language": "python",
   "name": "python3"
  },
  "language_info": {
   "codemirror_mode": {
    "name": "ipython",
    "version": 3
   },
   "file_extension": ".py",
   "mimetype": "text/x-python",
   "name": "python",
   "nbconvert_exporter": "python",
   "pygments_lexer": "ipython3",
   "version": "3.9.13"
  }
 },
 "nbformat": 4,
 "nbformat_minor": 5
}
