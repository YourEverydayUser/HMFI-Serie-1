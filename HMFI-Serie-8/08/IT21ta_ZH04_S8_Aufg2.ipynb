{
 "cells": [
  {
   "cell_type": "code",
   "execution_count": 76,
   "metadata": {
    "collapsed": true
   },
   "outputs": [],
   "source": [
    "import numpy as np"
   ]
  },
  {
   "cell_type": "code",
   "execution_count": 77,
   "outputs": [],
   "source": [
    "a = 5.\n",
    "b = 20.\n",
    "m = 10\n",
    "n = 5\n",
    "h = (b - a) / n\n",
    "\n",
    "integral = -2 * 10 * 20**(-1/2) + 2* 10 * 5**(-1/2)"
   ],
   "metadata": {
    "collapsed": false
   }
  },
  {
   "cell_type": "markdown",
   "source": [
    "Aufgabe 2.a)"
   ],
   "metadata": {
    "collapsed": false
   }
  },
  {
   "cell_type": "code",
   "execution_count": 78,
   "outputs": [],
   "source": [
    "def Rf(h):\n",
    "    sum = 0\n",
    "    v0 = 5\n",
    "    for i in range(n):\n",
    "        sum += m * (v0 + i * h + 1.5)**(-3/2)\n",
    "\n",
    "    return h * sum"
   ],
   "metadata": {
    "collapsed": false
   }
  },
  {
   "cell_type": "code",
   "execution_count": 79,
   "outputs": [
    {
     "name": "stdout",
     "output_type": "stream",
     "text": [
      "4.3823144035520984\n",
      "0.08982155144748116\n"
     ]
    }
   ],
   "source": [
    "result = Rf(h)\n",
    "print(result)\n",
    "print(abs(integral - result))"
   ],
   "metadata": {
    "collapsed": false
   }
  },
  {
   "cell_type": "markdown",
   "source": [
    "Aufgabe 2.b)"
   ],
   "metadata": {
    "collapsed": false
   }
  },
  {
   "cell_type": "code",
   "execution_count": 80,
   "outputs": [],
   "source": [
    "def Tf(h):\n",
    "    sum = 0\n",
    "    v0 = 5\n",
    "    for i in range(1, n):\n",
    "        sum += m * (v0 + i * h)**(-3/2)\n",
    "    return h * ((m * a**(-3/2) + m * b**(-3/2)) / 2 + sum)"
   ],
   "metadata": {
    "collapsed": false
   }
  },
  {
   "cell_type": "code",
   "execution_count": 81,
   "outputs": [
    {
     "name": "stdout",
     "output_type": "stream",
     "text": [
      "4.658181471990073\n",
      "0.1860455169904931\n"
     ]
    }
   ],
   "source": [
    "result = Tf(h)\n",
    "print(result)\n",
    "print(abs(integral - result))"
   ],
   "metadata": {
    "collapsed": false
   }
  },
  {
   "cell_type": "markdown",
   "source": [
    "Aufgabe 2.c)"
   ],
   "metadata": {
    "collapsed": false
   }
  },
  {
   "cell_type": "code",
   "execution_count": 82,
   "outputs": [],
   "source": [
    "def Sf(h):\n",
    "    sum1 = 0\n",
    "    sum2 = 0\n",
    "    v0 = 5\n",
    "\n",
    "    for i in range(1, n):\n",
    "        sum1 += m * (v0 + i * h)**(-3/2)\n",
    "\n",
    "    for i in range(1, n+1):\n",
    "        sum2 += m * (((v0 + (i-1)*h) + v0 + i*h) / 2)**(-3/2)\n",
    "    return h/3 * (1/2 * m * a**(-3/2) + sum1 + 2*sum2 + 1/2 * m * b**(-3/2))"
   ],
   "metadata": {
    "collapsed": false
   }
  },
  {
   "cell_type": "code",
   "execution_count": 83,
   "outputs": [
    {
     "name": "stdout",
     "output_type": "stream",
     "text": [
      "4.474270093031423\n",
      "0.002134138031843591\n"
     ]
    }
   ],
   "source": [
    "result = Sf(h)\n",
    "print(result)\n",
    "print(abs(integral - result))"
   ],
   "metadata": {
    "collapsed": false
   }
  },
  {
   "cell_type": "code",
   "execution_count": 83,
   "outputs": [],
   "source": [],
   "metadata": {
    "collapsed": false
   }
  }
 ],
 "metadata": {
  "kernelspec": {
   "display_name": "Python 3",
   "language": "python",
   "name": "python3"
  },
  "language_info": {
   "codemirror_mode": {
    "name": "ipython",
    "version": 2
   },
   "file_extension": ".py",
   "mimetype": "text/x-python",
   "name": "python",
   "nbconvert_exporter": "python",
   "pygments_lexer": "ipython2",
   "version": "2.7.6"
  }
 },
 "nbformat": 4,
 "nbformat_minor": 0
}
