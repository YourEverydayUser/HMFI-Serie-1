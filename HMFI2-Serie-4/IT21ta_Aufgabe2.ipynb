{
 "cells": [
  {
   "cell_type": "markdown",
   "id": "525da701",
   "metadata": {},
   "source": [
    "IT21ta_Aufgabe2"
   ]
  },
  {
   "cell_type": "code",
   "execution_count": 19,
   "id": "8351336b",
   "metadata": {},
   "outputs": [
    {
     "data": {
      "text/plain": [
       "637.328125"
      ]
     },
     "execution_count": 19,
     "metadata": {},
     "output_type": "execute_result"
    }
   ],
   "source": [
    "import numpy as np\n",
    "\n",
    "def lagrange_int(x, y, x_int):\n",
    "    lagrange_polynoms = []\n",
    "    \n",
    "    for k in x:\n",
    "        coefficients = []\n",
    "        for l in x:\n",
    "            if l != k:\n",
    "                coefficients.append((x_int - l) / (k - l))\n",
    "                \n",
    "        lagrange_polynoms.append(np.prod(coefficients))  \n",
    "    \n",
    "    for x in range(len(y)):\n",
    "        lagrange_polynoms[x] *= y[x] \n",
    "        \n",
    "    return sum(lagrange_polynoms)\n",
    "\n",
    "\n",
    "x_vector = [0, 2500, 5000, 10000]\n",
    "y_vector = [1013, 747, 540, 226]\n",
    "x_value = 3750\n",
    "\n",
    "lagrange_int(x_vector, y_vector, x_value)"
   ]
  },
  {
   "cell_type": "code",
   "execution_count": null,
   "id": "fb64c48a",
   "metadata": {},
   "outputs": [],
   "source": []
  }
 ],
 "metadata": {
  "kernelspec": {
   "display_name": "Python 3 (ipykernel)",
   "language": "python",
   "name": "python3"
  },
  "language_info": {
   "codemirror_mode": {
    "name": "ipython",
    "version": 3
   },
   "file_extension": ".py",
   "mimetype": "text/x-python",
   "name": "python",
   "nbconvert_exporter": "python",
   "pygments_lexer": "ipython3",
   "version": "3.9.13"
  }
 },
 "nbformat": 4,
 "nbformat_minor": 5
}
