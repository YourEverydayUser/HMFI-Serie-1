{
 "cells": [
  {
   "cell_type": "code",
   "execution_count": 102,
   "id": "6df5204a",
   "metadata": {},
   "outputs": [
    {
     "data": {
      "text/plain": "('Obere Dreiecksmatrix:',\n array([[ 1.  ,  0.75,  0.5 ],\n        [-0.  ,  1.  ,  2.  ],\n        [ 0.  ,  0.  ,  1.  ]]),\n 'Determinante: ',\n 1.0,\n 'Lösungsvektor x: ',\n array([4., 7., 3.]))"
     },
     "execution_count": 102,
     "metadata": {},
     "output_type": "execute_result"
    }
   ],
   "source": [
    "import numpy as np\n",
    "from numpy import float64\n",
    "\n",
    "A = np.array([[2, 1, 0],\n",
    "     [5, 3, 2],\n",
    "     [20, 15, 10]], dtype=float64)\n",
    "\n",
    "b = np.array([15, 47, 215], dtype=float64)\n",
    "\n",
    "def pivot(A, b, c):\n",
    "    max = A[c, c] \n",
    "    row = c\n",
    "    for x in range (c, len(A)):\n",
    "        if(np.abs(A[x, c]) > max):\n",
    "            max = A[x, c]\n",
    "            row = x \n",
    "    replaceA = np.copy(A[c])\n",
    "    replaceb = np.copy(b[c])\n",
    "    A[c] = A[row]\n",
    "    b[c] = b[row]\n",
    "    A[row] = replaceA\n",
    "    b[row] = replaceb\n",
    "\n",
    "    return A, b\n",
    "\n",
    "def gauss(A, b):\n",
    "\n",
    "    row = 0\n",
    "    for x in range (len(A)):\n",
    "        pivot(A, b, x)\n",
    "\n",
    "        b[x] = b[x] / A[x, row]\n",
    "        A[x] = A[x] / A[x, row]\n",
    "            \n",
    "        for y in range (x + 1, len(A)):\n",
    "            L = (A[y, row] / A[x, row])\n",
    "            A[y] =  A[y] - (L * A[x])\n",
    "            b[y] = b[y] - (L * b[x])\n",
    "        \n",
    "        row += 1\n",
    "\n",
    "    return A, b\n",
    "\n",
    "def backwards(A, b):\n",
    "    \n",
    "    for x in range (len(A)):\n",
    "        sum = 0\n",
    "        for y in range (len(A)):\n",
    "            if A[len(A) - x - 1, y] != 1:\n",
    "                sum += A[len(A) - x - 1, y] * b[y]\n",
    "            \n",
    "        length = len(A) - x - 1\n",
    "        if sum >= 0:\n",
    "            b[length] = (b[length] - sum)\n",
    "        else:\n",
    "            b[length] = (b[length] + np.abs(sum))\n",
    "    \n",
    "    return b \n",
    "\n",
    "def determinante(A):\n",
    "    D = 1\n",
    "    for x in range (len(A)):\n",
    "        D *= A[x, x]\n",
    "\n",
    "    return D\n",
    "\n",
    "def IT21a_ZH04_S6_Aufg2(A, b):\n",
    "    solution = gauss(A, b)\n",
    "    A_triangle = solution[0]\n",
    "    b_new = np.copy(solution[1])\n",
    "    return \"Obere Dreiecksmatrix:\", A_triangle, \"Determinante: \", determinante(A_triangle), \"Lösungsvektor x: \", backwards(A_triangle, b_new) \n",
    "\n",
    "IT21a_ZH04_S6_Aufg2(A, b)\n"
   ]
  },
  {
   "cell_type": "code",
   "execution_count": 103,
   "id": "4a6c1d28",
   "metadata": {},
   "outputs": [
    {
     "data": {
      "text/plain": "('Obere Dreiecksmatrix:',\n array([[ 1.     , -0.3125 , -1.28125],\n        [ 0.     ,  1.     ,  6.5    ],\n        [-0.     , -0.     ,  1.     ]]),\n 'Determinante: ',\n 1.0,\n 'Lösungsvektor x: ',\n array([ 6., -2.,  4.]))"
     },
     "execution_count": 103,
     "metadata": {},
     "output_type": "execute_result"
    }
   ],
   "source": [
    "from numpy import float64\n",
    "\n",
    "A1 = np.array([[4, -1, -5],\n",
    "     [-12, 4, 17],\n",
    "     [32, -10, -41]], dtype=float64)\n",
    "\n",
    "b11 = np.array([6, -12, 48], dtype=float64)\n",
    "IT21a_ZH04_S6_Aufg2(A1, b11)"
   ]
  },
  {
   "cell_type": "code",
   "execution_count": 104,
   "id": "904df339",
   "metadata": {},
   "outputs": [
    {
     "data": {
      "text/plain": "array([ 6., -2.,  4.])"
     },
     "execution_count": 104,
     "metadata": {},
     "output_type": "execute_result"
    }
   ],
   "source": [
    "A1 = np.array([[4, -1, -5],\n",
    "     [-12, 4, 17],\n",
    "     [32, -10, -41]], dtype=float64)\n",
    "\n",
    "b11 = np.array([6, -12, 48], dtype=float64)\n",
    "\n",
    "np.linalg.solve(A1, b11)"
   ]
  },
  {
   "cell_type": "code",
   "execution_count": 105,
   "id": "2460e0dc",
   "metadata": {},
   "outputs": [
    {
     "data": {
      "text/plain": "('Obere Dreiecksmatrix:',\n array([[ 1.     , -0.3125 , -1.28125],\n        [ 0.     ,  1.     ,  6.5    ],\n        [-0.     , -0.     ,  1.     ]]),\n 'Determinante: ',\n 1.0,\n 'Lösungsvektor x: ',\n array([ 2., -2.,  3.]))"
     },
     "execution_count": 105,
     "metadata": {},
     "output_type": "execute_result"
    }
   ],
   "source": [
    "A1 = np.array([[4, -1, -5],\n",
    "     [-12, 4, 17],\n",
    "     [32, -10, -41]], dtype=float64)\n",
    "\n",
    "b12 = np.array([-5, 19, -39], dtype=float64)\n",
    "\n",
    "IT21a_ZH04_S6_Aufg2(A1, b12)\n"
   ]
  },
  {
   "cell_type": "code",
   "execution_count": 106,
   "id": "b1e5496b",
   "metadata": {},
   "outputs": [
    {
     "data": {
      "text/plain": "array([ 2., -2.,  3.])"
     },
     "execution_count": 106,
     "metadata": {},
     "output_type": "execute_result"
    }
   ],
   "source": [
    "A1 = np.array([[4, -1, -5],\n",
    "     [-12, 4, 17],\n",
    "     [32, -10, -41]], dtype=float64)\n",
    "\n",
    "b12 = np.array([-5, 19, -39], dtype=float64)\n",
    "\n",
    "np.linalg.solve(A1, b12)"
   ]
  },
  {
   "cell_type": "code",
   "execution_count": 107,
   "id": "64f16df4",
   "metadata": {},
   "outputs": [
    {
     "data": {
      "text/plain": "('Obere Dreiecksmatrix:',\n array([[ 1.        ,  2.83333333,  0.75      ],\n        [ 0.        ,  1.        ,  2.25      ],\n        [-0.        , -0.        ,  1.        ]]),\n 'Determinante: ',\n 1.0,\n 'Lösungsvektor x: ',\n array([1., 2., 3.]))"
     },
     "execution_count": 107,
     "metadata": {},
     "output_type": "execute_result"
    }
   ],
   "source": [
    "A2 = np.array([[2, 7, 3],\n",
    "     [-4, -10, 0],\n",
    "     [12, 34, 9]], dtype=float64)\n",
    "\n",
    "b21 = np.array([25, -24, 107], dtype=float64)\n",
    "\n",
    "IT21a_ZH04_S6_Aufg2(A2, b21)"
   ]
  },
  {
   "cell_type": "code",
   "execution_count": 108,
   "id": "08cbb682",
   "metadata": {},
   "outputs": [
    {
     "data": {
      "text/plain": "array([1., 2., 3.])"
     },
     "execution_count": 108,
     "metadata": {},
     "output_type": "execute_result"
    }
   ],
   "source": [
    "A2 = np.array([[2, 7, 3],\n",
    "     [-4, -10, 0],\n",
    "     [12, 34, 9]], dtype=float64)\n",
    "\n",
    "b21 = np.array([25, -24, 107], dtype=float64)\n",
    "\n",
    "np.linalg.solve(A2, b21)"
   ]
  },
  {
   "cell_type": "code",
   "execution_count": 109,
   "id": "d5b379f7",
   "metadata": {},
   "outputs": [
    {
     "data": {
      "text/plain": "('Obere Dreiecksmatrix:',\n array([[ 1.        ,  2.83333333,  0.75      ],\n        [ 0.        ,  1.        ,  2.25      ],\n        [-0.        , -0.        ,  1.        ]]),\n 'Determinante: ',\n 1.0,\n 'Lösungsvektor x: ',\n array([-2.,  3., -4.]))"
     },
     "execution_count": 109,
     "metadata": {},
     "output_type": "execute_result"
    }
   ],
   "source": [
    "A2 = np.array([[2, 7, 3],\n",
    "     [-4, -10, 0],\n",
    "     [12, 34, 9]], dtype=float64)\n",
    "\n",
    "b22 = np.array([5, -22, 42], dtype=float64)\n",
    "IT21a_ZH04_S6_Aufg2(A2, b22)"
   ]
  },
  {
   "cell_type": "code",
   "execution_count": 110,
   "id": "5ad17e44",
   "metadata": {},
   "outputs": [
    {
     "data": {
      "text/plain": "array([-2.,  3., -4.])"
     },
     "execution_count": 110,
     "metadata": {},
     "output_type": "execute_result"
    }
   ],
   "source": [
    "A2 = np.array([[2, 7, 3],\n",
    "     [-4, -10, 0],\n",
    "     [12, 34, 9]], dtype=float64)\n",
    "\n",
    "b22 = np.array([5, -22, 42], dtype=float64)\n",
    "np.linalg.solve(A2, b22)"
   ]
  },
  {
   "cell_type": "code",
   "execution_count": 111,
   "id": "b5903b9b",
   "metadata": {},
   "outputs": [
    {
     "data": {
      "text/plain": "('Obere Dreiecksmatrix:',\n array([[ 1.        , -1.5       , -4.5       ],\n        [ 0.        ,  1.        , -2.41176471],\n        [-0.        , -0.        ,  1.        ]]),\n 'Determinante: ',\n 1.0,\n 'Lösungsvektor x: ',\n array([-1.,  3., -4.]))"
     },
     "execution_count": 111,
     "metadata": {},
     "output_type": "execute_result"
    }
   ],
   "source": [
    "A3 = np.array([[-2, 5, 4],\n",
    "     [-14, 38, 22],\n",
    "     [6, -9, -27]], dtype=float64)\n",
    "\n",
    "b31 = np.array([1, 40, 75], dtype=float64)\n",
    "IT21a_ZH04_S6_Aufg2(A3, b31)"
   ]
  },
  {
   "cell_type": "code",
   "execution_count": 112,
   "outputs": [
    {
     "data": {
      "text/plain": "array([-1.,  3., -4.])"
     },
     "execution_count": 112,
     "metadata": {},
     "output_type": "execute_result"
    }
   ],
   "source": [
    "A3 = np.array([[-2, 5, 4],\n",
    "     [-14, 38, 22],\n",
    "     [6, -9, -27]], dtype=float64)\n",
    "\n",
    "b31 = np.array([1, 40, 75], dtype=float64)\n",
    "np.linalg.solve(A3, b31)"
   ],
   "metadata": {
    "collapsed": false
   }
  },
  {
   "cell_type": "code",
   "execution_count": 113,
   "outputs": [
    {
     "data": {
      "text/plain": "('Obere Dreiecksmatrix:',\n array([[ 1.        , -1.5       , -4.5       ],\n        [ 0.        ,  1.        , -2.41176471],\n        [-0.        , -0.        ,  1.        ]]),\n 'Determinante: ',\n 1.0,\n 'Lösungsvektor x: ',\n array([-5., -2.,  4.]))"
     },
     "execution_count": 113,
     "metadata": {},
     "output_type": "execute_result"
    }
   ],
   "source": [
    "A3 = np.array([[-2, 5, 4],\n",
    "     [-14, 38, 22],\n",
    "     [6, -9, -27]], dtype=float64)\n",
    "\n",
    "b32 = np.array([16, 82, -120], dtype=float64)\n",
    "IT21a_ZH04_S6_Aufg2(A3, b32)"
   ],
   "metadata": {
    "collapsed": false
   }
  },
  {
   "cell_type": "code",
   "execution_count": 114,
   "outputs": [
    {
     "data": {
      "text/plain": "array([-5., -2.,  4.])"
     },
     "execution_count": 114,
     "metadata": {},
     "output_type": "execute_result"
    }
   ],
   "source": [
    "np.linalg.solve(A3, b31)\n",
    "A3 = np.array([[-2, 5, 4],\n",
    "               [-14, 38, 22],\n",
    "               [6, -9, -27]], dtype=float64)\n",
    "\n",
    "b32 = np.array([16, 82, -120], dtype=float64)\n",
    "np.linalg.solve(A3, b32)"
   ],
   "metadata": {
    "collapsed": false
   }
  },
  {
   "cell_type": "code",
   "execution_count": 114,
   "outputs": [],
   "source": [],
   "metadata": {
    "collapsed": false
   }
  }
 ],
 "metadata": {
  "kernelspec": {
   "display_name": "Python 3.9.12 ('base')",
   "language": "python",
   "name": "python3"
  },
  "language_info": {
   "codemirror_mode": {
    "name": "ipython",
    "version": 3
   },
   "file_extension": ".py",
   "mimetype": "text/x-python",
   "name": "python",
   "nbconvert_exporter": "python",
   "pygments_lexer": "ipython3",
   "version": "3.9.12"
  },
  "vscode": {
   "interpreter": {
    "hash": "c28a2dbd0e59fd56660eca8f34d8270f500442c1acb70d4a300d55b367c73123"
   }
  }
 },
 "nbformat": 4,
 "nbformat_minor": 5
}
