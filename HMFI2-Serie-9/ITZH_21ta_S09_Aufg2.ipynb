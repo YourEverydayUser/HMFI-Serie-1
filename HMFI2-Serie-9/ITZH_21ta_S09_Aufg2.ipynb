{
 "cells": [
  {
   "cell_type": "code",
   "execution_count": 29,
   "id": "989b3d61",
   "metadata": {},
   "outputs": [],
   "source": [
    "import numpy as np\n",
    "from numpy import cos as cos\n",
    "from numpy import pi as pi\n",
    "\n",
    "def ITZH_21ta_S09_Aufg3(f, a, b, m):\n",
    "    T = np.zeros((m+1, m+1))\n",
    "   \n",
    "    #initialisiere 1. Spalte mit Trapezwerten\n",
    "    for j in range(m+1):\n",
    "        n_j = 2**j\n",
    "        h_j = (b-a)/n_j\n",
    "        print(h_j)\n",
    "        sum = 0\n",
    "        \n",
    "        for i in range(1, n_j):\n",
    "            x_i = a + i * h_j\n",
    "            sum += f(x_i)\n",
    "                       \n",
    "        T[j, 0] = h_j * ((f(a) + f(b))/2 + sum)\n",
    "    #Extrapolation\n",
    "    for k in range(1, m+1):\n",
    "        for j in range(m+1-k):\n",
    "            T[j, k] = (4**k * T[j+1][k-1]-T[j][k-1]) / (4**k-1)\n",
    "    \n",
    "    return T\n",
    "\n",
    "def f(x):\n",
    "    return cos(x)"
   ]
  },
  {
   "cell_type": "code",
   "execution_count": 30,
   "id": "46437c86",
   "metadata": {},
   "outputs": [],
   "source": [
    "a = 0\n",
    "b = pi\n",
    "m = 4"
   ]
  },
  {
   "cell_type": "code",
   "execution_count": 31,
   "id": "3ded71d8",
   "metadata": {},
   "outputs": [
    {
     "name": "stdout",
     "output_type": "stream",
     "text": [
      "3.141592653589793\n",
      "1.5707963267948966\n",
      "0.7853981633974483\n",
      "0.39269908169872414\n",
      "0.19634954084936207\n"
     ]
    },
    {
     "data": {
      "text/plain": [
       "array([[ 0.00000000e+00,  1.28244713e-16,  2.05277967e-16,\n",
       "         2.98119173e-16, -5.72773022e-17],\n",
       "       [ 9.61835347e-17,  2.00463388e-16,  2.96668529e-16,\n",
       "        -5.58890347e-17,  0.00000000e+00],\n",
       "       [ 1.74393425e-16,  2.90655708e-16, -5.03803227e-17,\n",
       "         0.00000000e+00,  0.00000000e+00],\n",
       "       [ 2.61590137e-16, -2.90655708e-17,  0.00000000e+00,\n",
       "         0.00000000e+00,  0.00000000e+00],\n",
       "       [ 4.35983562e-17,  0.00000000e+00,  0.00000000e+00,\n",
       "         0.00000000e+00,  0.00000000e+00]])"
      ]
     },
     "execution_count": 31,
     "metadata": {},
     "output_type": "execute_result"
    }
   ],
   "source": [
    "ITZH_21ta_S09_Aufg3(f, a, b, m)"
   ]
  },
  {
   "cell_type": "code",
   "execution_count": 32,
   "id": "3eb3fc92",
   "metadata": {},
   "outputs": [
    {
     "data": {
      "text/plain": [
       "0.0012508670721484722"
      ]
     },
     "execution_count": 32,
     "metadata": {},
     "output_type": "execute_result"
    }
   ],
   "source": [
    "pi/2 * cos(1.57)"
   ]
  },
  {
   "cell_type": "code",
   "execution_count": null,
   "id": "ae769ffd",
   "metadata": {},
   "outputs": [],
   "source": []
  },
  {
   "cell_type": "code",
   "execution_count": null,
   "id": "34134759",
   "metadata": {},
   "outputs": [],
   "source": []
  }
 ],
 "metadata": {
  "kernelspec": {
   "display_name": "Python 3 (ipykernel)",
   "language": "python",
   "name": "python3"
  },
  "language_info": {
   "codemirror_mode": {
    "name": "ipython",
    "version": 3
   },
   "file_extension": ".py",
   "mimetype": "text/x-python",
   "name": "python",
   "nbconvert_exporter": "python",
   "pygments_lexer": "ipython3",
   "version": "3.9.13"
  }
 },
 "nbformat": 4,
 "nbformat_minor": 5
}
