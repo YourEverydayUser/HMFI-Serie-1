{
 "cells": [
  {
   "cell_type": "code",
   "execution_count": 47,
   "outputs": [
    {
     "data": {
      "text/plain": "⎡        2    3         ⎤\n⎢   x + y  - z  - 13    ⎥\n⎢                       ⎥\n⎢ 0.5⋅z - 1      ⎛y⎞    ⎥\n⎢ℯ          + log⎜─⎟ - 1⎥\n⎢                ⎝4⎠    ⎥\n⎢                       ⎥\n⎢     3          2      ⎥\n⎣  - z  + (y - 3)  + 7  ⎦",
      "text/latex": "$\\displaystyle \\left[\\begin{matrix}x + y^{2} - z^{3} - 13\\\\e^{0.5 z - 1} + \\log{\\left(\\frac{y}{4} \\right)} - 1\\\\- z^{3} + \\left(y - 3\\right)^{2} + 7\\end{matrix}\\right]$"
     },
     "execution_count": 47,
     "metadata": {},
     "output_type": "execute_result"
    }
   ],
   "source": [
    "import numpy as np\n",
    "import sympy as sp\n",
    "sp.init_printing()      # schöner Output im Jupyter Notebook.\n",
    "\n",
    "x, y, z = sp.symbols('x y z')\n",
    "\n",
    "f1 = x + y**2 - z**3 - 13\n",
    "f2 = sp.log(y/4) + sp.exp(0.5 * z - 1) - 1\n",
    "f3 = (y - 3)**2 - z**3 + 7\n",
    "\n",
    "f = sp.Matrix([f1, f2, f3])\n",
    "f"
   ],
   "metadata": {
    "collapsed": false
   }
  },
  {
   "cell_type": "code",
   "execution_count": 48,
   "outputs": [
    {
     "data": {
      "text/plain": "⎡                    2     ⎤\n⎢1    2⋅y        -3⋅z      ⎥\n⎢                          ⎥\n⎢      1          0.5⋅z - 1⎥\n⎢0     ─     0.5⋅ℯ         ⎥\n⎢      y                   ⎥\n⎢                          ⎥\n⎢                    2     ⎥\n⎣0  2⋅y - 6      -3⋅z      ⎦",
      "text/latex": "$\\displaystyle \\left[\\begin{matrix}1 & 2 y & - 3 z^{2}\\\\0 & \\frac{1}{y} & 0.5 e^{0.5 z - 1}\\\\0 & 2 y - 6 & - 3 z^{2}\\end{matrix}\\right]$"
     },
     "execution_count": 48,
     "metadata": {},
     "output_type": "execute_result"
    }
   ],
   "source": [
    "Df = f.jacobian([x, y, z])\n",
    "Df"
   ],
   "metadata": {
    "collapsed": false
   }
  },
  {
   "cell_type": "code",
   "execution_count": 49,
   "outputs": [
    {
     "name": "stdout",
     "output_type": "stream",
     "text": [
      "20.072525087071913\n",
      "[[1.5]\n",
      " [3. ]\n",
      " [2.5]]\n",
      "0.9689652129568432\n",
      "[[5.61831497]\n",
      " [3.8969475 ]\n",
      " [2.04      ]]\n",
      "0.0010974235080346356\n",
      "[[5.00190026]\n",
      " [3.99968329]\n",
      " [1.99988306]]\n",
      "[[5.00000001]\n",
      " [4.        ]\n",
      " [2.        ]]\n"
     ]
    }
   ],
   "source": [
    "\n",
    "f = sp.lambdify([([x], [y], [z])], f, 'numpy')\n",
    "Df = sp.lambdify([([x], [y], [z])], Df, 'numpy')\n",
    "\n",
    "x = np.array([[1.5], [3.], [2.5]])\n",
    "epsilon = 10**-5\n",
    "\n",
    "while np.linalg.norm(f(x), 2) > epsilon:\n",
    "    print(np.linalg.norm(f(x), 2))\n",
    "    print(x)\n",
    "    d = np.linalg.solve(Df(x), -f(x))\n",
    "    x += d\n",
    "\n",
    "\n",
    "print(x)"
   ],
   "metadata": {
    "collapsed": false
   }
  },
  {
   "cell_type": "code",
   "execution_count": 49,
   "outputs": [],
   "source": [],
   "metadata": {
    "collapsed": false
   }
  }
 ],
 "metadata": {
  "kernelspec": {
   "display_name": "Python 3",
   "language": "python",
   "name": "python3"
  },
  "language_info": {
   "codemirror_mode": {
    "name": "ipython",
    "version": 2
   },
   "file_extension": ".py",
   "mimetype": "text/x-python",
   "name": "python",
   "nbconvert_exporter": "python",
   "pygments_lexer": "ipython2",
   "version": "2.7.6"
  }
 },
 "nbformat": 4,
 "nbformat_minor": 0
}
