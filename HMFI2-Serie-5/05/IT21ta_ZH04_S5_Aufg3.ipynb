{
 "cells": [
  {
   "cell_type": "code",
   "execution_count": 68,
   "metadata": {
    "collapsed": true
   },
   "outputs": [],
   "source": [
    "import numpy as np\n",
    "import matplotlib.pyplot as plt"
   ]
  },
  {
   "cell_type": "markdown",
   "source": [
    "Aufgabe 3a)"
   ],
   "metadata": {
    "collapsed": false
   }
  },
  {
   "cell_type": "code",
   "execution_count": 69,
   "outputs": [],
   "source": [
    "def cubic_spline(x,y,xx):\n",
    "    if x.size < 2:\n",
    "        return 0\n",
    "    a = y[:-1]\n",
    "    h = x[1:] - x[:-1]\n",
    "    c = np.zeros(x.size)\n",
    "\n",
    "    if x.size > 2:\n",
    "        A = np.diag(2*(h[:-1] + h[1:])) + np.diag(h[1:-1], -1) + np.diag(h[1:-1], 1)\n",
    "        z = 3 * (y[2:] - y[1:-1]) / h[1:] - 3 * (y[1:-1] - y[:-2]) / h[:-1]\n",
    "        print(z)\n",
    "        c[1:-1] = np.linalg.solve(A, z)\n",
    "        print(c)\n",
    "\n",
    "    b = (y[1:] - y[:-1]) / h[:] - (c[1:] + 2*c[:-1]) * h[:] / 3\n",
    "    print(b)\n",
    "    d = (c[1:] - c[:-1]) / (3 * h[:])\n",
    "    print(d)\n",
    "\n",
    "    yy = np.zeros(xx.size)\n",
    "    for k in range(x.size - 1):\n",
    "        idx = (xx >= x[k]) & (xx <= x[k+1])\n",
    "        dx = xx[idx] - x[k]\n",
    "        yy[idx] = a[k] + b[k] * dx + c[k] * dx**2 + d[k] * dx**3\n",
    "\n",
    "    return yy"
   ],
   "metadata": {
    "collapsed": false
   }
  },
  {
   "cell_type": "code",
   "execution_count": 70,
   "outputs": [],
   "source": [
    "x = np.array([1900, 1910, 1920, 1930, 1940, 1950, 1960, 1970, 1980, 1990, 2000, 2010])\n",
    "y = np.array([75.995, 91.972, 105.711, 123.203, 131.669, 150.697, 179.323, 203.212, 226.505, 249.633, 281.422, 308.745])\n",
    "xx = np.arange(1900, 2010, 0.1)"
   ],
   "metadata": {
    "collapsed": false
   }
  },
  {
   "cell_type": "code",
   "execution_count": 71,
   "outputs": [
    {
     "name": "stdout",
     "output_type": "stream",
     "text": [
      "[-0.6714  1.1259 -2.7078  3.1686  2.8794 -1.4211 -0.1788 -0.0495  2.5983\n",
      " -1.3398]\n",
      "[ 0.         -0.03246555  0.06272218 -0.10583319  0.08983058  0.06337087\n",
      " -0.05537407  0.0160154  -0.02656752  0.08530467 -0.05482117  0.        ]\n",
      "[1.70591849 1.38126303 1.68382941 1.25271934 1.09269323 2.62470774\n",
      " 2.70467579 2.31108908 2.20556787 2.79293942 3.09777445]\n",
      "[-0.00108218  0.00317292 -0.00561851  0.00652213 -0.00088199 -0.00395816\n",
      "  0.00237965 -0.00141943  0.00372907 -0.00467086  0.00182737]\n"
     ]
    }
   ],
   "source": [
    "yy = cubic_spline(x, y, xx)"
   ],
   "metadata": {
    "collapsed": false
   }
  },
  {
   "cell_type": "code",
   "execution_count": 72,
   "outputs": [
    {
     "data": {
      "text/plain": "<matplotlib.collections.PathCollection at 0x2563183e8e0>"
     },
     "execution_count": 72,
     "metadata": {},
     "output_type": "execute_result"
    },
    {
     "data": {
      "text/plain": "<Figure size 432x288 with 1 Axes>",
      "image/png": "[encoded data removed]"
     },
     "metadata": {
      "needs_background": "light"
     },
     "output_type": "display_data"
    }
   ],
   "source": [
    "plt.plot(xx, yy)\n",
    "plt.scatter(x, y)"
   ],
   "metadata": {
    "collapsed": false
   }
  },
  {
   "cell_type": "markdown",
   "source": [
    "Aufgabe 3b)"
   ],
   "metadata": {
    "collapsed": false
   }
  },
  {
   "cell_type": "code",
   "execution_count": 73,
   "outputs": [],
   "source": [
    "from scipy import interpolate"
   ],
   "metadata": {
    "collapsed": false
   }
  },
  {
   "cell_type": "code",
   "execution_count": 74,
   "outputs": [],
   "source": [
    "cs = interpolate.CubicSpline(x, y)\n",
    "yy_cubic_spline = cs(xx)"
   ],
   "metadata": {
    "collapsed": false
   }
  },
  {
   "cell_type": "code",
   "execution_count": 80,
   "outputs": [
    {
     "data": {
      "text/plain": "<matplotlib.collections.PathCollection at 0x2563139f9d0>"
     },
     "execution_count": 80,
     "metadata": {},
     "output_type": "execute_result"
    },
    {
     "data": {
      "text/plain": "<Figure size 432x288 with 1 Axes>",
      "image/png": "[encoded data removed]"
     },
     "metadata": {
      "needs_background": "light"
     },
     "output_type": "display_data"
    }
   ],
   "source": [
    "plt.plot(xx, yy_cubic_spline)\n",
    "plt.plot(xx, yy)\n",
    "plt.scatter(x, y)"
   ],
   "metadata": {
    "collapsed": false
   }
  },
  {
   "cell_type": "markdown",
   "source": [
    "Aufgabe 3c)"
   ],
   "metadata": {
    "collapsed": false
   }
  },
  {
   "cell_type": "code",
   "execution_count": 76,
   "outputs": [],
   "source": [
    "degree = x.size - 1\n",
    "coefficients = np.polyfit(x - 1900, y, degree)"
   ],
   "metadata": {
    "collapsed": false
   }
  },
  {
   "cell_type": "code",
   "execution_count": 77,
   "outputs": [],
   "source": [
    "yy_polyfit = np.polyval(coefficients, xx - 1900)"
   ],
   "metadata": {
    "collapsed": false
   }
  },
  {
   "cell_type": "code",
   "execution_count": 79,
   "outputs": [
    {
     "data": {
      "text/plain": "<matplotlib.collections.PathCollection at 0x25631f22d60>"
     },
     "execution_count": 79,
     "metadata": {},
     "output_type": "execute_result"
    },
    {
     "data": {
      "text/plain": "<Figure size 432x288 with 1 Axes>",
      "image/png": "[encoded data removed]"
     },
     "metadata": {
      "needs_background": "light"
     },
     "output_type": "display_data"
    }
   ],
   "source": [
    "plt.plot(xx, yy_polyfit)\n",
    "plt.plot(xx, yy_cubic_spline)\n",
    "plt.plot(xx, yy)\n",
    "plt.scatter(x, y)"
   ],
   "metadata": {
    "collapsed": false
   }
  },
  {
   "cell_type": "code",
   "execution_count": 78,
   "outputs": [],
   "source": [],
   "metadata": {
    "collapsed": false
   }
  }
 ],
 "metadata": {
  "kernelspec": {
   "display_name": "Python 3",
   "language": "python",
   "name": "python3"
  },
  "language_info": {
   "codemirror_mode": {
    "name": "ipython",
    "version": 2
   },
   "file_extension": ".py",
   "mimetype": "text/x-python",
   "name": "python",
   "nbconvert_exporter": "python",
   "pygments_lexer": "ipython2",
   "version": "2.7.6"
  }
 },
 "nbformat": 4,
 "nbformat_minor": 0
}
