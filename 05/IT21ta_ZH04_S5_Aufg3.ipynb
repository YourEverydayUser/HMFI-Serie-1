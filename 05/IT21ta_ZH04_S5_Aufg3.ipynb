{
 "cells": [
  {
   "cell_type": "code",
   "execution_count": 47,
   "metadata": {},
   "outputs": [
    {
     "name": "stdout",
     "output_type": "stream",
     "text": [
      "Funktion aus Aufgabe 1\n",
      "6 iterations: -1.5262\n",
      "2 iterations: 0.4847\n",
      "6 iterations: 1.5077\n",
      "\n",
      "Funktion aus Aufgabe 2\n",
      "4 iterations: 8.0373\n"
     ]
    }
   ],
   "source": [
    "import numpy as np\n",
    "import matplotlib.pyplot as plt\n",
    "\n",
    "epsilon = 1e-3\n",
    "iterations = 4\n",
    "\n",
    "def IT21ta_ZH04_S5_Aufg3(f, x0, x1, tol):\n",
    "    xcurrent = x0\n",
    "    xnext = x1\n",
    "    counter = 0\n",
    "    while(f(xnext - tol) * f(xnext + tol) > 0):\n",
    "        xlast = xcurrent\n",
    "        xcurrent = xnext\n",
    "        xnext = xcurrent - ((xcurrent - xlast) / (f(xcurrent) - f(xlast))) * f(xcurrent)\n",
    "        counter += 1\n",
    "    return round(xnext, 4), counter\n",
    "\n",
    "def func1(x):\n",
    "    return np.exp(x**2) + x**-3 - 10\n",
    "\n",
    "def func2(h):\n",
    "    return (np.pi/3) * h**2 * (3*5 - h) -471\n",
    "\n",
    "result1 = IT21ta_ZH04_S5_Aufg3(func1, -1, -1.2, epsilon)\n",
    "print(\"Funktion aus Aufgabe 1\")\n",
    "result1 = IT21ta_ZH04_S5_Aufg3(func1, -1, -1.2, epsilon)\n",
    "print(str(result1[1]) + \" iterations: \" + str(result1[0]))\n",
    "result2 = IT21ta_ZH04_S5_Aufg3(func1, 0.1, 0.5, epsilon)\n",
    "print(str(result2[1]) + \" iterations: \" + str(result2[0]))\n",
    "result3 = IT21ta_ZH04_S5_Aufg3(func1, 1.9, 2, epsilon)\n",
    "print(str(result3[1]) + \" iterations: \" + str(result3[0]))\n",
    "\n",
    "print(\"\\nFunktion aus Aufgabe 2\")\n",
    "result4 = IT21ta_ZH04_S5_Aufg3(func2, 0, 9, epsilon)\n",
    "print(str(result4[1]) + \" iterations: \" + str(result4[0]))\n"
   ]
  },
  {
   "cell_type": "markdown",
   "metadata": {},
   "source": [
    "Da hier mit einer Toleranz von 10^-3 gearbeitet und nicht nur höchstens 4 Iterationen durchgeführt wurden, sind die Nullstellen etwas genauer als bei Aufgabe 1. Jedoch sind die Werte nah bei denen aus Aufgabe 1.\n",
    "\n",
    "Bei der Funktion aus Aufgabe 2 weicht die Nullstelle leicht von dem mit dem Newton-Verfahren berechneten Resultat ab. Dies hängt vermutlich davon ab, dass das Abbruchkriterium bei beiden Verfahren zwar erreicht wird, jedoch mit unterschiedlichen Werten.\n",
    "\n",
    "\"Wo würden Sie beim Versuch, das Newton-Verfahren zu implementieren, momentan noch\n",
    "auf Schwierigkeiten stossen?\"\n",
    "Das Problem beim Newton-Verfahren ist, dass die übergebene Funktion abgeleitet werden muss."
   ]
  }
 ],
 "metadata": {
  "kernelspec": {
   "display_name": "Python 3.9.12 ('base')",
   "language": "python",
   "name": "python3"
  },
  "language_info": {
   "codemirror_mode": {
    "name": "ipython",
    "version": 3
   },
   "file_extension": ".py",
   "mimetype": "text/x-python",
   "name": "python",
   "nbconvert_exporter": "python",
   "pygments_lexer": "ipython3",
   "version": "3.9.12"
  },
  "orig_nbformat": 4,
  "vscode": {
   "interpreter": {
    "hash": "d7ce3127bba36e76ebf4d42dcc5290d5961c35cb59364da7480f410951fa66d2"
   }
  }
 },
 "nbformat": 4,
 "nbformat_minor": 2
}
