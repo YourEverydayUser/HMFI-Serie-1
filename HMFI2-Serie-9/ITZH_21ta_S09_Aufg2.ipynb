{
 "cells": [
  {
   "cell_type": "code",
   "execution_count": 10,
   "id": "d7034244",
   "metadata": {},
   "outputs": [],
   "source": [
    "import numpy as np\n",
    "from numpy import cos as cos\n",
    "from numpy import pi as pi\n",
    "\n",
    "def ITZH_21ta_S09_Aufg3(f, a, b, m):\n",
    "    T = np.zeros((m+1, m+1))\n",
    "   \n",
    "    #initialisiere 1. Spalte mit Trapezwerten\n",
    "    for j in range(m+1):\n",
    "        n_j = 2**j\n",
    "        h_j = (b-a)/n_j\n",
    "        sum = 0\n",
    "        \n",
    "        for i in range(1, n_j):\n",
    "            x_i = a + i * h_j\n",
    "            sum += f(x_i)\n",
    "                       \n",
    "        T[j, 0] = h_j * ((f(a) + f(b))/2 + sum)\n",
    "    #Extrapolation\n",
    "    for k in range(1, m+1):\n",
    "        for j in range(m+1-k):\n",
    "            T[j, k] = (4**k * T[j+1][k-1]-T[j][k-1]) / (4**k-1)\n",
    "    \n",
    "    return T\n",
    "\n",
    "def f(x):\n",
    "    return cos(x**2)"
   ]
  },
  {
   "cell_type": "code",
   "execution_count": 11,
   "id": "984780b1",
   "metadata": {},
   "outputs": [],
   "source": [
    "a = 0\n",
    "b = pi\n",
    "m = 4"
   ]
  },
  {
   "cell_type": "code",
   "execution_count": 12,
   "id": "80938cc3",
   "metadata": {},
   "outputs": [
    {
     "data": {
      "text/plain": [
       "array([[ 0.15286148, -1.58521254,  1.43892088,  0.5284822 ,  0.5641876 ],\n",
       "       [-1.15069403,  1.24991254,  0.54270781,  0.56404813,  0.        ],\n",
       "       [ 0.6497609 ,  0.5869081 ,  0.56371468,  0.        ,  0.        ],\n",
       "       [ 0.6026213 ,  0.56516427,  0.        ,  0.        ,  0.        ],\n",
       "       [ 0.57452853,  0.        ,  0.        ,  0.        ,  0.        ]])"
      ]
     },
     "execution_count": 12,
     "metadata": {},
     "output_type": "execute_result"
    }
   ],
   "source": [
    "ITZH_21ta_S09_Aufg3(f, a, b, m)"
   ]
  },
  {
   "cell_type": "code",
   "execution_count": null,
   "id": "95f02b78",
   "metadata": {},
   "outputs": [],
   "source": [
    "\n"
   ]
  }
 ],
 "metadata": {
  "kernelspec": {
   "display_name": "Python 3 (ipykernel)",
   "language": "python",
   "name": "python3"
  },
  "language_info": {
   "codemirror_mode": {
    "name": "ipython",
    "version": 3
   },
   "file_extension": ".py",
   "mimetype": "text/x-python",
   "name": "python",
   "nbconvert_exporter": "python",
   "pygments_lexer": "ipython3",
   "version": "3.10.9"
  }
 },
 "nbformat": 4,
 "nbformat_minor": 5
}
